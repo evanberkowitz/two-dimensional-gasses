{
 "cells": [
  {
   "cell_type": "markdown",
   "id": "41abf7d1-cd1a-4c6e-9a0c-83ad93b20b2a",
   "metadata": {},
   "source": [
    "# Background"
   ]
  },
  {
   "cell_type": "markdown",
   "id": "5a470b16-79ff-40f8-a551-945173c4179c",
   "metadata": {},
   "source": [
    "<span style=\"color:red\">You MUST run the benchmarks/scaling.ipynb for this notebook to succeed!</span>\n",
    "\n",
    "It depends on ensembles already in storage left by that scaling benchmark."
   ]
  },
  {
   "cell_type": "code",
   "execution_count": null,
   "id": "2d7e5195-8af2-4040-96ff-dfa0f46329bc",
   "metadata": {},
   "outputs": [],
   "source": [
    "storage = '../benchmarks/scaling.h5'"
   ]
  },
  {
   "cell_type": "markdown",
   "id": "8ba147de-541c-48b0-8fca-666d252140b6",
   "metadata": {
    "jp-MarkdownHeadingCollapsed": true,
    "tags": []
   },
   "source": [
    "# Setup"
   ]
  },
  {
   "cell_type": "code",
   "execution_count": null,
   "id": "f8df7e8b-49d0-42bd-abec-480ef382c949",
   "metadata": {
    "extensions": {
     "jupyter_dashboards": {
      "activeView": "grid_default",
      "views": {
       "grid_default": {
        "col": null,
        "height": 2,
        "hidden": true,
        "locked": true,
        "row": null,
        "width": 2
       }
      }
     }
    }
   },
   "outputs": [],
   "source": [
    "import torch\n",
    "\n",
    "print(f'{torch.version.git_version=}')\n",
    "print(f'{torch.version.hip=}')\n",
    "print(f'{torch.version.debug=}')\n",
    "print(f'{torch.version.cuda=}')\n",
    "\n",
    "cpu = torch.device('cpu')\n",
    "\n",
    "if torch.cuda.is_available():\n",
    "    device = torch.device('cuda')\n",
    "    print(f'Using GPU {torch.cuda.current_device()}')\n",
    "    torch.set_default_tensor_type('torch.cuda.DoubleTensor')\n",
    "else:\n",
    "    device = torch.device('cpu')\n",
    "    torch.set_default_tensor_type(torch.DoubleTensor)"
   ]
  },
  {
   "cell_type": "code",
   "execution_count": null,
   "id": "706d5d4e-35b1-4366-b687-ee346346ab22",
   "metadata": {},
   "outputs": [],
   "source": [
    "from itertools import product\n",
    "\n",
    "import numpy as np\n",
    "import pandas as pd\n",
    "\n",
    "import matplotlib as mpl\n",
    "def dx_colors(data, color_map='rainbow'):\n",
    "    spectrum = mpl.colormaps[color_map]\n",
    "    \n",
    "    nxed = data.groupby('nx')\n",
    "\n",
    "    return {nx: spectrum(1-i/len(nxed)) for i, (nx, _) in enumerate(nxed)}\n",
    "\n",
    "\n",
    "import matplotlib.pyplot as plt\n",
    "%matplotlib inline"
   ]
  },
  {
   "cell_type": "code",
   "execution_count": null,
   "id": "8d7e9e2f-998c-4f20-98aa-8666d5d20a60",
   "metadata": {},
   "outputs": [],
   "source": [
    "import logging\n",
    "logging.basicConfig()\n",
    "logging.getLogger().setLevel(logging.WARNING)\n",
    "logger = logging.getLogger(__name__)"
   ]
  },
  {
   "cell_type": "code",
   "execution_count": null,
   "id": "b49345ee-fed4-4dd0-af1a-3e939d07e881",
   "metadata": {
    "extensions": {
     "jupyter_dashboards": {
      "activeView": "grid_default",
      "views": {
       "grid_default": {
        "col": null,
        "height": 2,
        "hidden": true,
        "locked": true,
        "row": null,
        "width": 2
       }
      }
     }
    }
   },
   "outputs": [],
   "source": [
    "import tdg\n",
    "\n",
    "import tdg.HMC as HMC\n",
    "import tdg.plot as visualize\n",
    "\n",
    "import h5py as h5"
   ]
  },
  {
   "cell_type": "markdown",
   "id": "e9235d64-811d-4aeb-bd02-f32933268892",
   "metadata": {
    "extensions": {
     "jupyter_dashboards": {
      "activeView": "grid_default",
      "views": {
       "grid_default": {
        "col": null,
        "height": 2,
        "hidden": true,
        "locked": true,
        "row": null,
        "width": 2
       }
      }
     }
    },
    "jp-MarkdownHeadingCollapsed": true,
    "tags": []
   },
   "source": [
    "# Comparison"
   ]
  },
  {
   "cell_type": "markdown",
   "id": "2e1f83b2-ef53-4990-94a4-297674e44f17",
   "metadata": {
    "extensions": {
     "jupyter_dashboards": {
      "activeView": "grid_default",
      "views": {
       "grid_default": {
        "col": null,
        "height": 2,
        "hidden": true,
        "locked": true,
        "row": null,
        "width": 2
       }
      }
     }
    }
   },
   "source": [
    "Let us try to pick a system with some physical relevance by compare against some data in [2212.05177](https://arxiv.org/abs/2212.05177)."
   ]
  },
  {
   "cell_type": "code",
   "execution_count": null,
   "id": "b0fcc541-e043-4035-ae52-fb11b1637b00",
   "metadata": {
    "extensions": {
     "jupyter_dashboards": {
      "activeView": "grid_default",
      "views": {
       "grid_default": {
        "col": null,
        "height": 2,
        "hidden": true,
        "locked": true,
        "row": null,
        "width": 2
       }
      }
     }
    }
   },
   "outputs": [],
   "source": [
    "# See eq. (7.6)\n",
    "\n",
    "def alpha3(alpha):\n",
    "    \n",
    "    log4 = torch.log(torch.tensor(4.))\n",
    "    return 0.25 * alpha**2 * (\n",
    "                    1\n",
    "                    + (1.5 - log4) * alpha\n",
    "                    + 3*(0.16079 - (log4-1))*alpha**2\n",
    "                    # + O(alpha^3)\n",
    "    )\n",
    "\n",
    "MCDataPositive = torch.tensor([[0.561347, 0.070021],[0.473085, 0.051458],[0.382930, 0.034817],\n",
    "                               [0.291280, 0.020615],[0.195786, 0.009559],[0.098755, 0.002458],])\n",
    "\n",
    "MCDataNegative = torch.tensor([[-0.622725, 0.067143],[-0.490006, 0.047254],[-0.395163, 0.032882],\n",
    "                               [-0.309663, 0.019606],[-0.255783, 0.014222],[-0.234334, 0.012622],])"
   ]
  },
  {
   "cell_type": "code",
   "execution_count": null,
   "id": "761030cc-12d1-47ba-a925-932da31c64d6",
   "metadata": {
    "extensions": {
     "jupyter_dashboards": {
      "activeView": "grid_default",
      "views": {
       "grid_default": {
        "col": null,
        "height": 2,
        "hidden": true,
        "locked": true,
        "row": null,
        "width": 2
       }
      }
     }
    }
   },
   "outputs": [],
   "source": [
    "def comparison_plot(ax):\n",
    "    x = torch.linspace(-0.65,+0.65,1000)\n",
    "    ax.plot(x.cpu(), alpha3(x).cpu(), color='black')\n",
    "    # ±5% for the cutoff dependence.\n",
    "    ax.fill_between(x.cpu(), alpha3(0.95*x).cpu(), alpha3(1.05*x).cpu(), color='gray', alpha=0.2)\n",
    "    ax.plot(MCDataNegative[:,0].cpu(), MCDataNegative[:,1].cpu(), color='gray', marker='o', linestyle='none')\n",
    "    ax.plot(MCDataPositive[:,0].cpu(), MCDataPositive[:,1].cpu(), color='blue', marker='v', linestyle='none')\n",
    "    ax.set_xlim([-0.65,+0.65])\n",
    "    ax.set_ylim([0,0.075])    \n",
    "\n",
    "fig, ax = plt.subplots(1,1, figsize=(10,6))\n",
    "comparison_plot(ax)"
   ]
  },
  {
   "cell_type": "markdown",
   "id": "b7cea99d-4697-44fd-b1aa-2ae4f093d6e1",
   "metadata": {
    "jp-MarkdownHeadingCollapsed": true,
    "tags": []
   },
   "source": [
    "# Parameter Scan"
   ]
  },
  {
   "cell_type": "markdown",
   "id": "88641bc3-a3d8-4362-aee2-60c8b74fee90",
   "metadata": {},
   "source": [
    "In benchmarks/scaling.ipynb we scaled towards the temporal and spatial continuum limits, holding the physics (M, a, L, β, µ, h) fixed, which fixes the ERE too."
   ]
  },
  {
   "cell_type": "code",
   "execution_count": null,
   "id": "61ea4549-dfb1-4539-8a0a-48d192348184",
   "metadata": {},
   "outputs": [],
   "source": [
    "NT = (8, 16, 24, 32, 48, 64,)\n",
    "NX = (7, 9, 11, 13, 15, 17, 19, 21)\n",
    "\n",
    "mu = 0.\n",
    "beta = 3. / 49\n",
    "# Read the ERE in below\n",
    "\n",
    "def key(nx, nt, root='/'):\n",
    "    return f'{root}/{nx=}/{nt=}'"
   ]
  },
  {
   "cell_type": "markdown",
   "id": "243f6eed-539f-4391-922b-adbe8f3347a9",
   "metadata": {
    "jp-MarkdownHeadingCollapsed": true,
    "tags": []
   },
   "source": [
    "# Single-Ensemble Measurements"
   ]
  },
  {
   "cell_type": "markdown",
   "id": "5a4cccc2-5021-4e0b-92d1-169434de2747",
   "metadata": {},
   "source": [
    "[Because of the memory costs](https://github.com/evanberkowitz/two-dimensional-gasses/issues/49) we only measure on a subset of all the ensembles and do not bin but simply keep only every n=9th configuration.\n",
    "\n",
    "No study of errors; they may be accurate or underestimated!"
   ]
  },
  {
   "cell_type": "code",
   "execution_count": null,
   "id": "2abfc0c0-a997-4148-b086-49bce75f4834",
   "metadata": {},
   "outputs": [],
   "source": [
    "data = pd.DataFrame()\n",
    "\n",
    "# Keep the memory footprint down.\n",
    "NX = NX[:4]\n",
    "NT = NT[:5]\n",
    "\n",
    "for (nx, nt) in product(NX, NT):   \n",
    "    try:\n",
    "        with h5.File(storage, 'r') as f:\n",
    "            ensemble = tdg.ensemble.GrandCanonical.from_h5(f[f'{key(nx,nt)}'])\n",
    "            ere = ensemble.Action.Tuning.ere\n",
    "    except:\n",
    "        continue\n",
    "\n",
    "    # Keep the number of measurements to a minimum, because of the memory costs.\n",
    "    # bootstrapped = ensemble.cut(100).every(9).bootstrapped()\n",
    "    bootstrapped = ensemble.bootstrapped()\n",
    "    \n",
    "    row = pd.Series({\n",
    "        'nx': nx, 'nt': nt, \n",
    "        'N': bootstrapped.N.cpu().detach().real.numpy(),\n",
    "        'C': bootstrapped.Contact.cpu().detach().real.numpy(),\n",
    "        'K': bootstrapped.Kinetic.cpu().detach().real.numpy(),\n",
    "        'V': bootstrapped.Potential.cpu().detach().real.numpy(),\n",
    "        'F': bootstrapped.FreeEnergy.cpu().detach().real.numpy(),\n",
    "    })\n",
    "    data = pd.concat((data, pd.DataFrame((row,))), ignore_index=True, axis=0)\n",
    "    \n",
    "print('done!')"
   ]
  },
  {
   "cell_type": "markdown",
   "id": "077f9028-6feb-4c22-a58a-e7204b097528",
   "metadata": {},
   "source": [
    "Now we add expectation-value dependent quantities under the bootstrap."
   ]
  },
  {
   "cell_type": "code",
   "execution_count": null,
   "id": "d04b7b93-0b1f-4dec-9869-a4d9ebc11670",
   "metadata": {},
   "outputs": [],
   "source": [
    "data['c/kF4'] = data['C'] / (2*np.pi * data['N'])**2\n",
    "data['k/kF4'] = data['K'] / (2*np.pi * data['N'])**2\n",
    "data['v/kF4'] = data['V'] / (2*np.pi * data['N'])**2\n",
    "data['f/kF4'] = data['F'] / (2*np.pi * data['N'])**2\n",
    "data['kF a']  = data['N'].apply(lambda x: np.sqrt(x/(2*np.pi))) * ere.a.clone().cpu().detach().numpy()\n",
    "data['alpha'] = - 1 / data['kF a'].apply(lambda x: np.log(x))"
   ]
  },
  {
   "cell_type": "code",
   "execution_count": null,
   "id": "484810e4-02ed-47d9-91fe-63815e494db6",
   "metadata": {},
   "outputs": [],
   "source": [
    "# Styling\n",
    "\n",
    "marker = {\n",
    "    # Key is nt\n",
    "    8: '^',\n",
    "    16: 's',\n",
    "    24: 'd',\n",
    "    32: 'D',\n",
    "    48: 'h',\n",
    "    64: 'o',\n",
    "}\n",
    "\n",
    "\n",
    "color = dx_colors(data)\n",
    "\n",
    "nxed = data.groupby('nx')\n",
    "_e = 1.e-7\n",
    "epsilon = {nx: _e*v for ((nx, _), v) in zip(nxed, (torch.arange(len(nxed))-(len(nxed)-1)/2).cpu())}"
   ]
  },
  {
   "cell_type": "markdown",
   "id": "497c719c-7024-4d03-8aa1-ef3bd1896742",
   "metadata": {
    "jp-MarkdownHeadingCollapsed": true,
    "tags": []
   },
   "source": [
    "# Extrapolate and Compare!"
   ]
  },
  {
   "cell_type": "markdown",
   "id": "972e7794-50fe-4542-9465-accc49966220",
   "metadata": {},
   "source": [
    "We won't do any fitting; we'll simply do \"chi-by-eye\" to see if we are reproducing the contact density in [2212.05177](https://arxiv.org/abs/2212.05177)."
   ]
  },
  {
   "cell_type": "code",
   "execution_count": null,
   "id": "445f9741-f54d-4cb8-aec0-1851942fbbbb",
   "metadata": {},
   "outputs": [],
   "source": [
    "quantities = (\n",
    "            'alpha',\n",
    "            'c/kF4',\n",
    "            'k/kF4',\n",
    "            'v/kF4',\n",
    "            'f/kF4',\n",
    "            'N',\n",
    "        )\n",
    "\n",
    "fig, ax = plt.subplots(1+len(quantities),1, figsize=(10, 3*(len(quantities)+1)))\n",
    "\n",
    "for a in ax[:-1]:\n",
    "    a.set_xlim([-0.05*(beta/(min(NT)))**2, 1.05*(beta/(min(NT)))**2])\n",
    "\n",
    "comparison_plot(ax[-1])\n",
    "\n",
    "alpha_estimate = 0 # aggregates a value for alpha to compare the continuum limit against\n",
    "\n",
    "for (idx, b) in data.iterrows():\n",
    "    \n",
    "    nx = b['nx']\n",
    "    nt = b['nt']\n",
    "\n",
    "    alpha = b['alpha'].mean()\n",
    "    alpha_err = b['alpha'].std()\n",
    "    alpha_estimate += alpha\n",
    "    \n",
    "    for quantity, axis in zip(quantities, ax[:-1]):\n",
    "\n",
    "        mean = b[quantity].mean()\n",
    "        err  = b[quantity].std()\n",
    "\n",
    "\n",
    "        \n",
    "        axis.errorbar(((beta/nt)**2 + epsilon[nx],), (mean,), yerr=(err,),\n",
    "                   marker=marker[nt], color=color[nx], label=(f'{nx=}' if nt==8 else None)\n",
    "                  )\n",
    "    \n",
    "    ax[-1].errorbar((alpha,), (b['c/kF4'].mean(),), xerr=(alpha_err,), yerr=(b['c/kF4'].std(),),\n",
    "                   marker=marker[nt], color=color[nx], alpha=0.25\n",
    "                  )\n",
    "\n",
    "for quantity, axis in zip(quantities, ax[:-1]):\n",
    "    axis.set_ylabel(quantity)\n",
    "    axis.set_xlabel('(β/nt)^2')\n",
    "\n",
    "ax[0].set_title(f'β/ML^2={beta:.4f} 2πa/L={ere.a:.4f} µ=0 h=0')\n",
    "ax[0].legend()\n",
    "\n",
    "alpha_estimate /= len(data)\n",
    "cbykF4_estimate =     alpha3(     alpha_estimate)\n",
    "cbykF4_estimate_err = (alpha3(1.05*alpha_estimate)-cbykF4_estimate)\n",
    "ax[1].errorbar((0, ), (cbykF4_estimate.cpu().detach().numpy(),), \n",
    "               yerr=(cbykF4_estimate_err.cpu().detach().numpy(),), \n",
    "               marker='*', color='black'\n",
    "              )\n",
    "\n",
    "ax[-1].set_ylabel('c/kF^4')\n",
    "ax[-1].set_xlabel('α')\n",
    "\n",
    "plt.tight_layout()\n",
    "plt.savefig('continuum-limit.pdf')"
   ]
  }
 ],
 "metadata": {
  "extensions": {
   "jupyter_dashboards": {
    "activeView": "grid_default",
    "version": 1,
    "views": {
     "grid_default": {
      "cellMargin": 2,
      "defaultCellHeight": 40,
      "maxColumns": 12,
      "name": "grid",
      "type": "grid"
     }
    }
   }
  },
  "kernelspec": {
   "display_name": "Python 3 (ipykernel)",
   "language": "python",
   "name": "python3"
  },
  "language_info": {
   "codemirror_mode": {
    "name": "ipython",
    "version": 3
   },
   "file_extension": ".py",
   "mimetype": "text/x-python",
   "name": "python",
   "nbconvert_exporter": "python",
   "pygments_lexer": "ipython3",
   "version": "3.9.13"
  }
 },
 "nbformat": 4,
 "nbformat_minor": 5
}
