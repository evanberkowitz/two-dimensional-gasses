{
 "cells": [
  {
   "cell_type": "code",
   "execution_count": null,
   "id": "5ebfbaa8-4f11-415f-97c3-fb562b83dabf",
   "metadata": {},
   "outputs": [],
   "source": [
    "import torch\n",
    "torch.set_default_dtype(torch.float64)"
   ]
  },
  {
   "cell_type": "code",
   "execution_count": null,
   "id": "9629496d-6173-4dcc-a159-427e9775969e",
   "metadata": {},
   "outputs": [],
   "source": [
    "from collections import deque"
   ]
  },
  {
   "cell_type": "code",
   "execution_count": null,
   "id": "84ea8ba3-2b71-459f-912a-a1325a357af8",
   "metadata": {},
   "outputs": [],
   "source": [
    "import matplotlib as mpl\n",
    "import matplotlib.pyplot as plt\n",
    "%matplotlib inline"
   ]
  },
  {
   "cell_type": "code",
   "execution_count": null,
   "id": "53bc2ff0-2206-4cb7-ba02-b0964f37b53b",
   "metadata": {},
   "outputs": [],
   "source": [
    "import tdg\n",
    "from tqdm.notebook import tqdm"
   ]
  },
  {
   "cell_type": "code",
   "execution_count": null,
   "id": "a3769ec9-44c9-4034-a8d1-2043607040d8",
   "metadata": {},
   "outputs": [],
   "source": [
    "NX = (7, 9, 11, 13, 15, 17, 19, 21, 23, 25,)\n",
    "beta = 3./49\n",
    "mu = 0\n",
    "h = torch.tensor([0., 0., 0.])"
   ]
  },
  {
   "cell_type": "code",
   "execution_count": null,
   "id": "004042b4-a153-4f9b-bd82-22c27fbd66d9",
   "metadata": {},
   "outputs": [],
   "source": [
    "ensembles = deque()"
   ]
  },
  {
   "cell_type": "code",
   "execution_count": null,
   "id": "fa87982e-1a3a-4ac4-a5a4-f2ff5f041123",
   "metadata": {},
   "outputs": [],
   "source": [
    "for nx in tqdm(NX):\n",
    "    L = tdg.Lattice(nx)\n",
    "    spacetime = tdg.Spacetime(2, L)\n",
    "    \n",
    "    S = tdg.Action(\n",
    "        spacetime,\n",
    "        tdg.Potential(-0.000000000000000001*tdg.LegoSphere([0,0])),\n",
    "        beta=beta,\n",
    "        mu=mu,\n",
    "        h=h,\n",
    "        )\n",
    "    \n",
    "    zero_configuration = spacetime.vector()\n",
    "    cfgs = torch.stack((zero_configuration,))\n",
    "    \n",
    "    free = tdg.ensemble.GrandCanonical(S).from_configurations(cfgs).bootstrapped(1)\n",
    "    ensembles.append(free)"
   ]
  },
  {
   "cell_type": "code",
   "execution_count": null,
   "id": "6d14f7f2-9818-45bf-bb41-134a1b15b3ca",
   "metadata": {},
   "outputs": [],
   "source": [
    "fig, ax = plt.subplots(11,1, sharex='col', figsize=(8,30))\n",
    "\n",
    "for e in ensembles:\n",
    "    \n",
    "    L = e.Action.Spacetime.Lattice\n",
    "    nx = L.nx\n",
    "\n",
    "    ax[0].plot((1/nx**2,), (e.N[0].real,        ), label=f'{nx}', marker='o')\n",
    "    ax[1].plot((1/nx**2,), (e.T_by_TF[0].real,  ), label=f'{nx}', marker='o')\n",
    "\n",
    "    ax[2].plot((1/nx**2,), (e.kinetic_by_kF4[0].real,        ), label=f'{nx}', marker='o')\n",
    "    ax[3].plot((1/nx**2,), (e.internalEnergy_by_kF4[0].real,  ), label=f'{nx}', marker='o')\n",
    "    \n",
    "    ax[4].plot(((1/nx)**2,), (e.n_momentum[0,0].real,  ), label=f'{nx}', marker='o')\n",
    "    \n",
    "    ax[-6].plot((1/nx**2,), (e.w0_by_kF4[0].real, ), label=f'{nx}', marker='o')\n",
    "    ax[-5].plot((1/nx**2,), (e.w2_by_kF2[0].real, ), label=f'{nx}', marker='o')\n",
    "    ax[-4].plot((1/nx**2,), (e.w4[0].real,        ), label=f'{nx}', marker='o')\n",
    "    \n",
    "    ax[-3].plot((1/nx**2,), (e.b2_by_kF4[0].real,), label=f'{nx}', marker='o')\n",
    "    ax[-2].plot((1/nx**2,), (e.b4_by_kF2[0].real,), label=f'{nx}', marker='o')\n",
    "    ax[-1].plot((1/nx**2,), (e.b6       [0].real,), label=f'{nx}', marker='o')\n",
    "    \n",
    "ax[0].set_ylabel('N')\n",
    "ax[1].set_ylabel('T/TF')\n",
    "\n",
    "ax[2].set_ylabel('k / kF^4')\n",
    "ax[3].set_ylabel('u / kF^4')\n",
    "\n",
    "ax[4].set_ylabel('n(k=0)/L^2')\n",
    "\n",
    "ax[-6].set_ylabel('w0 / kF^4')\n",
    "ax[-5].set_ylabel('w2 / kF^2')\n",
    "ax[-4].set_ylabel('w4')\n",
    "\n",
    "ax[-3].set_ylabel('b2 / kF^4')\n",
    "ax[-2].set_ylabel('b4 / kF^2')\n",
    "ax[-1].set_ylabel('b6')\n",
    "\n",
    "\n",
    "ax[-1].set_xlim([0, 0.022])\n",
    "ax[-1].set_xlabel('1/nx^2')"
   ]
  },
  {
   "cell_type": "markdown",
   "id": "392de66a-16a1-4f5f-ab12-5779db87513e",
   "metadata": {},
   "source": [
    "# Momentum-dependent quantities"
   ]
  },
  {
   "cell_type": "code",
   "execution_count": null,
   "id": "93f5fb9a-1e94-47a0-882a-5e2b453f213c",
   "metadata": {},
   "outputs": [],
   "source": [
    "fig, ax = plt.subplots(2,1, sharex='col', figsize=(8,12))\n",
    "\n",
    "for e in ensembles:\n",
    "    \n",
    "    L = e.Action.Spacetime.Lattice\n",
    "    nx = L.nx\n",
    "    nt = e.Action.Spacetime.nt\n",
    "    k2 = L.linearize(L.ksq)\n",
    "\n",
    "    ax[0].plot(e.momentum_by_kF_squared[0].real, e.n_momentum[0].real,        label=f'{nx=}', marker='o', linestyle='none', zorder=-nx)\n",
    "    ax[1].plot(e.momentum_by_kF_squared[0].real, e.spin_momentum[0,:,2].real, label=f'{nx=}', marker='o', linestyle='none', zorder=-nx)\n",
    "\n",
    "\n",
    "ax[0].set_yscale('log')\n",
    "ax[1].set_yscale('symlog')\n",
    "    \n",
    "ax[0].set_ylabel('n(k) / L^2')\n",
    "ax[1].set_ylabel('s(k) / L^2')\n",
    "\n",
    "ax[0].set_xlabel('(k/kF)^2')\n",
    "ax[0].legend(ncol=2)"
   ]
  },
  {
   "cell_type": "markdown",
   "id": "56ae2763-f9c4-4d21-85c7-ff4ead639253",
   "metadata": {},
   "source": [
    "# Condensate Fraction"
   ]
  },
  {
   "cell_type": "markdown",
   "id": "a705558d-9036-43a1-8aab-5b7912ff304c",
   "metadata": {},
   "source": [
    "In the free theory all the condensate fractions should be zero; a plot does not show anything more informative than a bunch of zeros."
   ]
  },
  {
   "cell_type": "code",
   "execution_count": null,
   "id": "35f1c1de-b0cf-45a1-82b5-4db90c998a6b",
   "metadata": {},
   "outputs": [],
   "source": [
    "cutoff = 1e-10\n",
    "\n",
    "for e in ensembles:\n",
    "    print(\n",
    "        e.Action.Spacetime.Lattice.nx,\n",
    "        (e.pairing_singlet[0].abs() < cutoff).unique(return_counts=True),\n",
    "        e.condensate_fraction_singlet[0],\n",
    "        e.condensate_fraction_triplet_plus[0],\n",
    "        e.condensate_fraction_triplet_zero[0],\n",
    "        e.condensate_fraction_triplet_minus[0],\n",
    "        e.condensate_fraction_up_down[0],\n",
    "    )"
   ]
  },
  {
   "cell_type": "code",
   "execution_count": null,
   "id": "1b702abb-6055-4a5e-8866-8de1738bbbf1",
   "metadata": {},
   "outputs": [],
   "source": [
    "fig, AX = plt.subplots(4,5, sharex='col', sharey='row', figsize=(20,15))\n",
    "\n",
    "for e in ensembles:\n",
    "    \n",
    "    L = e.Action.Spacetime.Lattice\n",
    "    nx = L.nx\n",
    "    k2 = L.linearize(L.ksq)\n",
    "\n",
    "    for ax, EIGENVALUES in zip(AX, (\n",
    "        e.pair_pair_eigenvalues_singlet, \n",
    "        e.pair_pair_eigenvalues_triplet_plus,\n",
    "        e.pair_pair_eigenvalues_triplet_zero,\n",
    "        e.pair_pair_eigenvalues_triplet_minus,\n",
    "    )):\n",
    "    \n",
    "        for a, obs in zip(ax, (EIGENVALUES[0].flip(dims=(0,)))):# e.pair_pair_triplet_plus, e.pair_pair_triplet_zero, e.pair_pair_triplet_minus, e.pair_pair_up_down)):\n",
    "\n",
    "            a.plot(((1/nx)**2,), (obs.real, ), label=f'{nx}', marker='o')\n",
    "\n",
    "for (a, label) in zip(AX[:,0], ('singlet', 'triplet plus', 'triplet zero', 'triplet minus')):\n",
    "    a.set_ylabel(label)\n",
    "\n",
    "for (a, label) in zip(AX[0], ('largest eigenvalue', 'next largest', '...', 'and so on', '...')):\n",
    "    a.set_title(label)\n",
    "\n",
    "for a in ax:\n",
    "    a.set_xlabel('(1 / nx)^2')\n"
   ]
  }
 ],
 "metadata": {
  "kernelspec": {
   "display_name": "Python 3 (ipykernel)",
   "language": "python",
   "name": "python3"
  },
  "language_info": {
   "codemirror_mode": {
    "name": "ipython",
    "version": 3
   },
   "file_extension": ".py",
   "mimetype": "text/x-python",
   "name": "python",
   "nbconvert_exporter": "python",
   "pygments_lexer": "ipython3",
   "version": "3.9.13"
  }
 },
 "nbformat": 4,
 "nbformat_minor": 5
}
