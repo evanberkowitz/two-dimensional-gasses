{
 "cells": [
  {
   "cell_type": "code",
   "execution_count": null,
   "id": "5ebfbaa8-4f11-415f-97c3-fb562b83dabf",
   "metadata": {},
   "outputs": [],
   "source": [
    "import torch\n",
    "torch.set_default_dtype(torch.float64)"
   ]
  },
  {
   "cell_type": "code",
   "execution_count": null,
   "id": "84ea8ba3-2b71-459f-912a-a1325a357af8",
   "metadata": {},
   "outputs": [],
   "source": [
    "import matplotlib as mpl\n",
    "import matplotlib.pyplot as plt\n",
    "%matplotlib inline"
   ]
  },
  {
   "cell_type": "code",
   "execution_count": null,
   "id": "53bc2ff0-2206-4cb7-ba02-b0964f37b53b",
   "metadata": {},
   "outputs": [],
   "source": [
    "import tdg"
   ]
  },
  {
   "cell_type": "code",
   "execution_count": null,
   "id": "a3769ec9-44c9-4034-a8d1-2043607040d8",
   "metadata": {},
   "outputs": [],
   "source": [
    "NX = (7, 9, 11, 13, 15, 17, 19, 21, 23, 25,)\n",
    "beta = 3./49\n",
    "mu = 0\n",
    "h = torch.tensor([0., 0., 0.])"
   ]
  },
  {
   "cell_type": "code",
   "execution_count": null,
   "id": "004042b4-a153-4f9b-bd82-22c27fbd66d9",
   "metadata": {},
   "outputs": [],
   "source": [
    "ensembles = set()"
   ]
  },
  {
   "cell_type": "code",
   "execution_count": null,
   "id": "fa87982e-1a3a-4ac4-a5a4-f2ff5f041123",
   "metadata": {},
   "outputs": [],
   "source": [
    "for nx in NX:\n",
    "    L = tdg.Lattice(nx)\n",
    "    spacetime = tdg.Spacetime(2, L)\n",
    "    \n",
    "    S = tdg.Action(\n",
    "        spacetime,\n",
    "        tdg.Potential(-0.000000000000000001*tdg.LegoSphere([0,0])),\n",
    "        beta=beta,\n",
    "        mu=mu,\n",
    "        h=h,\n",
    "        )\n",
    "    \n",
    "    zero_configuration = spacetime.vector()\n",
    "    cfgs = torch.stack((zero_configuration,))\n",
    "    \n",
    "    free = tdg.ensemble.GrandCanonical(S).from_configurations(cfgs).bootstrapped(1)\n",
    "    ensembles.add(free)"
   ]
  },
  {
   "cell_type": "code",
   "execution_count": null,
   "id": "6d14f7f2-9818-45bf-bb41-134a1b15b3ca",
   "metadata": {},
   "outputs": [],
   "source": [
    "fig, ax = plt.subplots(3,1, sharex='col', figsize=(8,12))\n",
    "\n",
    "for e in ensembles:\n",
    "    L = e.Action.Spacetime.Lattice\n",
    "    nx = L.nx\n",
    "    k2 = L.linearize(L.ksq)\n",
    "\n",
    "    ax[0].plot((1/nx**2,), (e.b2_by_kF4[0].real,), label=f'{nx}', marker='o')\n",
    "    ax[1].plot((1/nx**2,), (e.b4_by_kF2[0].real,), label=f'{nx}', marker='o')\n",
    "    ax[2].plot((1/nx**2,), (e.b6       [0].real,), label=f'{nx}', marker='o')\n",
    "\n",
    "# ax.legend()\n",
    "\n",
    "ax[0].set_ylabel('b2/kF4')\n",
    "ax[1].set_ylabel('b4/kF2')\n",
    "ax[2].set_ylabel('b6')\n",
    "\n",
    "ax[2].set_xlim([0, 0.022])\n",
    "ax[2].set_xlabel('1/nx^2')"
   ]
  }
 ],
 "metadata": {
  "kernelspec": {
   "display_name": "Python 3 (ipykernel)",
   "language": "python",
   "name": "python3"
  },
  "language_info": {
   "codemirror_mode": {
    "name": "ipython",
    "version": 3
   },
   "file_extension": ".py",
   "mimetype": "text/x-python",
   "name": "python",
   "nbconvert_exporter": "python",
   "pygments_lexer": "ipython3",
   "version": "3.9.13"
  }
 },
 "nbformat": 4,
 "nbformat_minor": 5
}
