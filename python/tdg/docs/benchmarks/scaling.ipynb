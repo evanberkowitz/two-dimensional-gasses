{
 "cells": [
  {
   "cell_type": "code",
   "execution_count": null,
   "id": "f8df7e8b-49d0-42bd-abec-480ef382c949",
   "metadata": {
    "extensions": {
     "jupyter_dashboards": {
      "activeView": "grid_default",
      "views": {
       "grid_default": {
        "col": null,
        "height": 2,
        "hidden": true,
        "locked": true,
        "row": null,
        "width": 2
       }
      }
     }
    }
   },
   "outputs": [],
   "source": [
    "import torch\n",
    "\n",
    "print(f'{torch.version.git_version=}')\n",
    "print(f'{torch.version.hip=}')\n",
    "print(f'{torch.version.debug=}')\n",
    "print(f'{torch.version.cuda=}')\n",
    "\n",
    "cpu = torch.device('cpu')\n",
    "\n",
    "if torch.cuda.is_available():\n",
    "    device = torch.device('cuda')\n",
    "    print(f'Using GPU {torch.cuda.current_device()}')\n",
    "    torch.set_default_tensor_type('torch.cuda.DoubleTensor')\n",
    "else:\n",
    "    device = torch.device('cpu')\n",
    "    torch.set_default_tensor_type(torch.DoubleTensor)\n",
    "    \n"
   ]
  },
  {
   "cell_type": "code",
   "execution_count": null,
   "id": "706d5d4e-35b1-4366-b687-ee346346ab22",
   "metadata": {},
   "outputs": [],
   "source": [
    "from itertools import product\n",
    "import pandas as pd\n",
    "\n",
    "import matplotlib.pyplot as plt\n",
    "%matplotlib inline"
   ]
  },
  {
   "cell_type": "code",
   "execution_count": null,
   "id": "d258e8aa-90e0-429e-b243-35f657481075",
   "metadata": {},
   "outputs": [],
   "source": [
    "from tqdm.notebook import tqdm\n",
    "import time"
   ]
  },
  {
   "cell_type": "code",
   "execution_count": null,
   "id": "8d7e9e2f-998c-4f20-98aa-8666d5d20a60",
   "metadata": {},
   "outputs": [],
   "source": [
    "import logging\n",
    "logging.basicConfig()\n",
    "logging.getLogger().setLevel(logging.WARNING)\n",
    "logger = logging.getLogger(__name__)"
   ]
  },
  {
   "cell_type": "code",
   "execution_count": null,
   "id": "b49345ee-fed4-4dd0-af1a-3e939d07e881",
   "metadata": {
    "extensions": {
     "jupyter_dashboards": {
      "activeView": "grid_default",
      "views": {
       "grid_default": {
        "col": null,
        "height": 2,
        "hidden": true,
        "locked": true,
        "row": null,
        "width": 2
       }
      }
     }
    }
   },
   "outputs": [],
   "source": [
    "import tdg\n",
    "\n",
    "import tdg.HMC as HMC\n",
    "import tdg.plot as visualize\n",
    "\n",
    "import h5py as h5"
   ]
  },
  {
   "cell_type": "markdown",
   "id": "e9235d64-811d-4aeb-bd02-f32933268892",
   "metadata": {
    "extensions": {
     "jupyter_dashboards": {
      "activeView": "grid_default",
      "views": {
       "grid_default": {
        "col": null,
        "height": 2,
        "hidden": true,
        "locked": true,
        "row": null,
        "width": 2
       }
      }
     }
    },
    "jp-MarkdownHeadingCollapsed": true,
    "tags": []
   },
   "source": [
    "# Target"
   ]
  },
  {
   "cell_type": "markdown",
   "id": "2e1f83b2-ef53-4990-94a4-297674e44f17",
   "metadata": {
    "extensions": {
     "jupyter_dashboards": {
      "activeView": "grid_default",
      "views": {
       "grid_default": {
        "col": null,
        "height": 2,
        "hidden": true,
        "locked": true,
        "row": null,
        "width": 2
       }
      }
     }
    }
   },
   "source": [
    "Let us try to pick a system with some physical relevance by compare against some data in [2212.05177](https://arxiv.org/abs/2212.05177)."
   ]
  },
  {
   "cell_type": "code",
   "execution_count": null,
   "id": "b0fcc541-e043-4035-ae52-fb11b1637b00",
   "metadata": {
    "extensions": {
     "jupyter_dashboards": {
      "activeView": "grid_default",
      "views": {
       "grid_default": {
        "col": null,
        "height": 2,
        "hidden": true,
        "locked": true,
        "row": null,
        "width": 2
       }
      }
     }
    }
   },
   "outputs": [],
   "source": [
    "# See eq. (7.6)\n",
    "\n",
    "def alpha3(alpha):\n",
    "    \n",
    "    log4 = torch.log(torch.tensor(4.))\n",
    "    return 0.25 * alpha**2 * (\n",
    "                    1\n",
    "                    + (1.5 - log4) * alpha\n",
    "                    + 3*(0.16079 - (log4-1))*alpha**2\n",
    "                    # + O(alpha^3)\n",
    "    )\n",
    "\n",
    "# alpha3 = torch.tensor([\n",
    "#     # Some points of interpolation for the curve, if need be.\n",
    "#     # Extracted from their Figure 12.\n",
    "#     [0.598902, 0.074818],[0.511862, 0.057783],[0.444455, 0.045412],[0.361013, 0.031059],\n",
    "#     [0.305007, 0.022658],[0.250488, 0.015285],[0.177552, 0.007921],[0.125091, 0.003866],\n",
    "#     [0.056770, 0.000702],[0.000282, -0.000084],[-0.061888, 0.000928],[-0.112767, 0.003178],\n",
    "#     [-0.183703, 0.008094],[-0.243079, 0.013748],[-0.281439, 0.018160],[-0.315505, 0.022290],\n",
    "#     [-0.355172, 0.027626],[-0.401856, 0.034315],[-0.435591, 0.038935],[-0.482788, 0.045873],\n",
    "#     [-0.526242, 0.052000],[-0.568489, 0.057922],[-0.614529, 0.063739],[-0.651008, 0.067718],])\n",
    "\n",
    "MCDataPositive = torch.tensor([[0.561347, 0.070021],[0.473085, 0.051458],[0.382930, 0.034817],\n",
    "                               [0.291280, 0.020615],[0.195786, 0.009559],[0.098755, 0.002458],])\n",
    "\n",
    "MCDataNegative = torch.tensor([[-0.622725, 0.067143],[-0.490006, 0.047254],[-0.395163, 0.032882],\n",
    "                               [-0.309663, 0.019606],[-0.255783, 0.014222],[-0.234334, 0.012622],])"
   ]
  },
  {
   "cell_type": "code",
   "execution_count": null,
   "id": "761030cc-12d1-47ba-a925-932da31c64d6",
   "metadata": {
    "extensions": {
     "jupyter_dashboards": {
      "activeView": "grid_default",
      "views": {
       "grid_default": {
        "col": null,
        "height": 2,
        "hidden": true,
        "locked": true,
        "row": null,
        "width": 2
       }
      }
     }
    }
   },
   "outputs": [],
   "source": [
    "def comparison_plot(ax):\n",
    "    x = torch.linspace(-0.65,+0.65,1000)\n",
    "    ax.plot(x.cpu(), alpha3(x).cpu(), color='black')\n",
    "    # ±5% for the cutoff dependence.\n",
    "    ax.fill_between(x.cpu(), alpha3(0.95*x).cpu(), alpha3(1.05*x).cpu(), color='gray', alpha=0.2)\n",
    "    ax.plot(MCDataNegative[:,0].cpu(), MCDataNegative[:,1].cpu(), color='gray', marker='o', linestyle='none')\n",
    "    ax.plot(MCDataPositive[:,0].cpu(), MCDataPositive[:,1].cpu(), color='blue', marker='v', linestyle='none')\n",
    "    ax.set_xlim([-0.65,+0.65])\n",
    "    ax.set_ylim([0,0.075])    \n",
    "\n",
    "fig, ax = plt.subplots(1,1, figsize=(10,6))\n",
    "comparison_plot(ax)"
   ]
  },
  {
   "cell_type": "markdown",
   "id": "a40703c1-2012-4ece-be9c-161ccd2a93fc",
   "metadata": {
    "extensions": {
     "jupyter_dashboards": {
      "activeView": "grid_default",
      "views": {
       "grid_default": {
        "col": null,
        "height": 2,
        "hidden": true,
        "locked": true,
        "row": null,
        "width": 2
       }
      }
     }
    },
    "jp-MarkdownHeadingCollapsed": true,
    "tags": []
   },
   "source": [
    "# Tuning"
   ]
  },
  {
   "cell_type": "markdown",
   "id": "0957d253-d804-420c-aaaf-66ef23f4adcf",
   "metadata": {
    "extensions": {
     "jupyter_dashboards": {
      "activeView": "grid_default",
      "views": {
       "grid_default": {
        "col": null,
        "height": 2,
        "hidden": true,
        "locked": true,
        "row": null,
        "width": 2
       }
      }
     }
    }
   },
   "source": [
    "First, to establish their notation:\n",
    "\n",
    "$$\\begin{align}\n",
    "    \\alpha(x) &= -\\left(\\log x a\\right)^{-1} \n",
    "    &\n",
    "    \\alpha    &= \\alpha(k_F) \\text{ if no argument is provided.}\n",
    "\\end{align}$$\n",
    "\n",
    "We should aim for $\\alpha>0$ so that we do not need to compute the gap $M \\Delta^2/4\\pi$ (5.1).  Their results are good up to $\\alpha \\lesssim 0.6$ or so.\n",
    "\n",
    "What does that correspond to in terms of the number density\n",
    "$$ \\rho = N/L^2 = \\frac{g}{4\\pi} k_F^2 ?$$"
   ]
  },
  {
   "cell_type": "markdown",
   "id": "56358dc3-f916-458b-ab92-09fa048432e9",
   "metadata": {
    "extensions": {
     "jupyter_dashboards": {
      "activeView": "grid_default",
      "views": {
       "grid_default": {
        "col": null,
        "height": 2,
        "hidden": true,
        "locked": true,
        "row": null,
        "width": 2
       }
      }
     }
    }
   },
   "source": [
    "Massaging the definition of $\\alpha$ one finds\n",
    "$$\\begin{align}\n",
    "    e^{-1/\\alpha} = k_F a = \\sqrt{\\frac{4\\pi N}{gL^2}} a = \\sqrt{\\frac{N}{g\\pi}} \\frac{2\\pi a}{L}\n",
    "\\end{align}$$\n",
    "\n",
    "Since for our system $g=2$,\n",
    "$$\\begin{align}\n",
    "    e^{-1/\\alpha} = \\sqrt{\\frac{N}{2\\pi}} \\frac{2\\pi a}{L} = \\sqrt{\\frac{N}{2\\pi}} \\tilde{a}\n",
    "\\end{align}$$"
   ]
  },
  {
   "cell_type": "markdown",
   "id": "e030d461-abcf-4f5c-8208-6bed55cc26bd",
   "metadata": {
    "extensions": {
     "jupyter_dashboards": {
      "activeView": "grid_default",
      "views": {
       "grid_default": {
        "col": null,
        "height": 2,
        "hidden": true,
        "locked": true,
        "row": null,
        "width": 2
       }
      }
     }
    }
   },
   "source": [
    "Suppose we want to stay in the dilute regime $\\text{sparsity} = N/\\Lambda\\lesssim 0.1 $ to keep spatial discretization errors at bay.  Then we should solve\n",
    "$$\\begin{align}\n",
    "    e^{-1/\\alpha} = \\sqrt{\\frac{\\text{sparsity} \\Lambda}{2\\pi}} \\tilde{a}\n",
    "\\end{align}$$\n",
    "for $\\tilde{a}$ to find\n",
    "$$\\begin{align}\n",
    "    \\tilde{a} = \\frac{e^{-1/\\alpha}}{\\sqrt{\\frac{\\Lambda \\text{sparsity}}{2\\pi}}}\n",
    "\\end{align}$$"
   ]
  },
  {
   "cell_type": "code",
   "execution_count": null,
   "id": "046c0398-67fb-472d-a24c-182207e97f35",
   "metadata": {
    "extensions": {
     "jupyter_dashboards": {
      "activeView": "grid_default",
      "views": {
       "grid_default": {
        "col": null,
        "height": 2,
        "hidden": true,
        "locked": true,
        "row": null,
        "width": 2
       }
      }
     }
    }
   },
   "outputs": [],
   "source": [
    "def target_ere(alpha, lattice, sparsity):\n",
    "    \n",
    "    atilde = torch.exp(-1/alpha) / torch.sqrt( lattice.sites * sparsity / (2*torch.pi))\n",
    "    \n",
    "    return tdg.EffectiveRangeExpansion(torch.tensor((atilde,)))"
   ]
  },
  {
   "cell_type": "markdown",
   "id": "4b24ade2-b660-40b6-a99b-f64d8c6de645",
   "metadata": {
    "extensions": {
     "jupyter_dashboards": {
      "activeView": "grid_default",
      "views": {
       "grid_default": {
        "col": null,
        "height": 2,
        "hidden": true,
        "locked": true,
        "row": null,
        "width": 2
       }
      }
     }
    }
   },
   "source": [
    "They show the contact density [their (7.5)] for a range of α in Fig. 12.  Something to note is that the energy density in their definition [their (5.1)] requires subtracting off the gap.\n",
    "\n",
    "We can access the attractive channel with α < 0.  "
   ]
  },
  {
   "cell_type": "code",
   "execution_count": null,
   "id": "275467c8-ff61-45ae-953f-5d61744f96c1",
   "metadata": {
    "extensions": {
     "jupyter_dashboards": {
      "activeView": "grid_default",
      "views": {
       "grid_default": {
        "col": null,
        "height": 2,
        "hidden": true,
        "locked": true,
        "row": null,
        "width": 2
       }
      }
     }
    }
   },
   "outputs": [],
   "source": [
    "alpha_target = torch.tensor(-0.3)\n",
    "Lattice = tdg.Lattice(7)\n",
    "sparsity = torch.tensor(0.1) # so we should tune µ until we find about 5 particles\n",
    "Z = tdg.Luescher.Zeta2D()"
   ]
  },
  {
   "cell_type": "markdown",
   "id": "c61856ec-aaa6-4e7b-9efa-870477cb9a3c",
   "metadata": {
    "extensions": {
     "jupyter_dashboards": {
      "activeView": "grid_default",
      "views": {
       "grid_default": {
        "col": null,
        "height": 2,
        "hidden": true,
        "locked": true,
        "row": null,
        "width": 2
       }
      }
     }
    }
   },
   "source": [
    "We can tune to the continuum limit."
   ]
  },
  {
   "cell_type": "code",
   "execution_count": null,
   "id": "0b6df6f8-69ef-42b7-8e91-b1d7869f9681",
   "metadata": {
    "extensions": {
     "jupyter_dashboards": {
      "activeView": "grid_default",
      "views": {
       "grid_default": {
        "col": null,
        "height": 2,
        "hidden": true,
        "locked": true,
        "row": null,
        "width": 2
       }
      }
     }
    }
   },
   "outputs": [],
   "source": [
    "fig, ax = plt.subplots(1,1, figsize=(12,8))\n",
    "\n",
    "# First draw the zeta function.\n",
    "exact = torch.linspace(-5.001, 30.001, 1000)\n",
    "Z.plot(ax, exact, color='gray')\n",
    "\n",
    "# and the analytic piece of the ERE\n",
    "ere = target_ere(alpha_target, Lattice, sparsity)\n",
    "analytic = ere.analytic(exact)\n",
    "ax.plot(exact.cpu(), analytic.cpu().clone().detach(), color='black', linestyle='dashed')\n",
    "\n",
    "def plot(ax, nx, alpha, starting_lattice, starting_sparsity):\n",
    "    Lattice = tdg.Lattice(nx)\n",
    "    # Take the continuum limit holding the number of particles fixed\n",
    "    # and increasing the number of sites.\n",
    "    sparsity = starting_sparsity*(starting_lattice.nx/nx)**2\n",
    "    \n",
    "    ere = target_ere(alpha, Lattice, sparsity)\n",
    "    tuning = tdg.AnalyticTuning(ere, Lattice)\n",
    "    A1 = tdg.ReducedTwoBodyA1Hamiltonian(Lattice, [tdg.LegoSphere(r) for r in tuning.radii])\n",
    "    E  = A1.eigenenergies(tuning.C)\n",
    "    x  = E * Lattice.sites / (2*torch.pi)**2\n",
    "    z  = Z(x) / torch.pi**2\n",
    "    ax.plot(\n",
    "        x.cpu().detach().numpy(),\n",
    "        z.cpu().detach().numpy(),\n",
    "        linestyle='none', marker='o',\n",
    "        label=f'nx={Lattice.nx}'\n",
    "        )\n",
    "\n",
    "for nx in range(7,25,2):\n",
    "    plot(ax, nx, alpha_target, Lattice, sparsity)\n",
    "\n",
    "ax.legend()\n",
    "ax.set_xlim((min(exact).cpu(), max(exact).cpu()))\n",
    "ax.set_ylim((-0,5))"
   ]
  },
  {
   "cell_type": "markdown",
   "id": "b7cea99d-4697-44fd-b1aa-2ae4f093d6e1",
   "metadata": {
    "jp-MarkdownHeadingCollapsed": true,
    "tags": []
   },
   "source": [
    "# Parameter Scan"
   ]
  },
  {
   "cell_type": "markdown",
   "id": "88641bc3-a3d8-4362-aee2-60c8b74fee90",
   "metadata": {},
   "source": [
    "Let us check performance as we scale towards the temporal and spatial continuum limits, holding the physics fixed."
   ]
  },
  {
   "cell_type": "code",
   "execution_count": null,
   "id": "61ea4549-dfb1-4539-8a0a-48d192348184",
   "metadata": {},
   "outputs": [],
   "source": [
    "NT = (8, 16, 24, 32, 48, 64,)# 96, 128)\n",
    "NX = (7, 9, 11, 13, 15, 17, 19, 21)\n",
    "\n",
    "storage = './scaling.h5'\n",
    "configurations = 1000\n",
    "\n",
    "def key(nx, nt, root='/'):\n",
    "    return f'{root}/{nx=}/{nt=}'"
   ]
  },
  {
   "cell_type": "markdown",
   "id": "7b79da6b-de13-4d55-9b06-b039c2bc4e7c",
   "metadata": {
    "jp-MarkdownHeadingCollapsed": true,
    "tags": []
   },
   "source": [
    "# Heavy Compute!"
   ]
  },
  {
   "cell_type": "code",
   "execution_count": null,
   "id": "254ff85e-9884-4686-9563-06a907f6b12e",
   "metadata": {},
   "outputs": [],
   "source": [
    "mu = 0.\n",
    "beta = 3"
   ]
  },
  {
   "cell_type": "code",
   "execution_count": null,
   "id": "01117f43-d4b0-42c5-8260-574feac5b1d9",
   "metadata": {},
   "outputs": [],
   "source": [
    "for nx in NX:\n",
    "    \n",
    "    tuning = tdg.AnalyticTuning(ere, tdg.Lattice(nx))\n",
    "\n",
    "    for nt in NT:\n",
    "        \n",
    "        # Chop out expensive corner\n",
    "        if nx > 15 and nt > 48:\n",
    "            continue\n",
    "              \n",
    "        try:\n",
    "            with h5.File(storage, 'r') as f:\n",
    "                generation_time = f[f'{key(nx, nt)}/generation_time'][()]\n",
    "                print(f'{nx=} {nt=} {generation_time}')\n",
    "                continue\n",
    "        except:\n",
    "            \n",
    "            S = tuning.Action(nt, beta, torch.tensor(mu))\n",
    "            print(S)\n",
    "\n",
    "            H = HMC.Hamiltonian(S)\n",
    "            integrator = HMC.Omelyan(H, 30, 1)\n",
    "            hmc = HMC.MarkovChain(H, integrator)\n",
    "\n",
    "            t0 = time.time()\n",
    "\n",
    "            ensemble = tdg.ensemble.GrandCanonical(S).generate(configurations, hmc, start='hot')\n",
    "            \n",
    "            t1 = time.time()\n",
    "            ensemble.generation_time = t1 - t0\n",
    "\n",
    "            print(f'{nx=} {nt=} {ensemble.generation_time}')\n",
    "            \n",
    "            with h5.File(storage, 'a') as f:\n",
    "                ensemble.to_h5(f.create_group(key(nx,nt)))\n",
    "                "
   ]
  },
  {
   "cell_type": "markdown",
   "id": "51833965-d195-4b6f-850b-799e24c0a848",
   "metadata": {
    "jp-MarkdownHeadingCollapsed": true,
    "tags": []
   },
   "source": [
    "# Read in generation times"
   ]
  },
  {
   "cell_type": "code",
   "execution_count": null,
   "id": "1682cd4b-f543-46f0-a308-2933de102563",
   "metadata": {},
   "outputs": [],
   "source": [
    "times = dict()\n",
    "\n",
    "for (nx, nt) in product(NX, NT):\n",
    "    try:\n",
    "        with h5.File(storage, 'r') as f:\n",
    "            times[(nx, nt)] = f[f'{key(nx,nt)}/generation_time'][()]\n",
    "    except:\n",
    "        pass\n",
    "\n",
    "df = pd.DataFrame(((nx, nt, time) for (nx, nt), time in times.items()), columns=('nx', 'nt', 'time'))"
   ]
  },
  {
   "cell_type": "markdown",
   "id": "e025001e-ef8e-40c2-a1fd-a757ce454e0e",
   "metadata": {
    "jp-MarkdownHeadingCollapsed": true,
    "tags": []
   },
   "source": [
    "# Plot"
   ]
  },
  {
   "cell_type": "code",
   "execution_count": null,
   "id": "b5149073-6e47-473c-b016-05cf0ad0b5bc",
   "metadata": {},
   "outputs": [],
   "source": [
    "fig, ax = plt.subplots(2,2, figsize=(16,12))\n",
    "\n",
    "for (nx, group) in df.groupby('nx'):\n",
    "    ax[0,0].plot(group['nt'], group['time']/configurations, marker='o', label=f'{nx=}')\n",
    "    ax[1,0].plot(group['nt'], group['time']/group['nt']/configurations, marker='o', label=f'{nx=}')\n",
    "    \n",
    "ax[0,0].set_title(f'Seconds for 1 HMC trajectory with 30 MD steps')\n",
    "ax[0,0].set_xlabel('nt')\n",
    "ax[0,0].set_ylabel('time [seconds]')\n",
    "ax[0,0].legend()\n",
    "\n",
    "ax[1,0].set_title(f'Seconds Per Timeslice for 1 HMC trajectory with 30 MD steps')\n",
    "ax[1,0].set_xlabel('nt')\n",
    "ax[1,0].set_ylabel('time [seconds] / nt')\n",
    "ax[1,0].legend()\n",
    "\n",
    "    \n",
    "for (nt, group) in df.groupby('nt'):\n",
    "    ax[0,1].plot(group['nx']**2, group['time']/configurations, marker='o', label=f'{nt=}')\n",
    "    ax[1,1].plot(group['nx']**2, group['time']/group['nx']**2/configurations, marker='o', label=f'{nt=}')\n",
    "    \n",
    "    \n",
    "ax[0,1].set_title(f'Seconds for 1 HMC trajectory with 30 MD steps')\n",
    "ax[0,1].set_xlabel('nx^2')\n",
    "ax[0,1].set_ylabel('time [seconds]')\n",
    "ax[0,1].legend()\n",
    "\n",
    "ax[1,1].set_title(f'Seconds Per Spatial Volume for 1 HMC trajectory with 30 MD steps')\n",
    "ax[1,1].set_xlabel('nx^2')\n",
    "ax[1,1].set_ylabel('time [seconds] / nx^2')\n",
    "ax[1,1].legend()"
   ]
  }
 ],
 "metadata": {
  "extensions": {
   "jupyter_dashboards": {
    "activeView": "grid_default",
    "version": 1,
    "views": {
     "grid_default": {
      "cellMargin": 2,
      "defaultCellHeight": 40,
      "maxColumns": 12,
      "name": "grid",
      "type": "grid"
     }
    }
   }
  },
  "kernelspec": {
   "display_name": "Python 3 (ipykernel)",
   "language": "python",
   "name": "python3"
  },
  "language_info": {
   "codemirror_mode": {
    "name": "ipython",
    "version": 3
   },
   "file_extension": ".py",
   "mimetype": "text/x-python",
   "name": "python",
   "nbconvert_exporter": "python",
   "pygments_lexer": "ipython3",
   "version": "3.9.13"
  }
 },
 "nbformat": 4,
 "nbformat_minor": 5
}
