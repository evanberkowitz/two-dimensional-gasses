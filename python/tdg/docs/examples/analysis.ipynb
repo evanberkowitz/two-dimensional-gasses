{
 "cells": [
  {
   "cell_type": "code",
   "execution_count": null,
   "id": "94833879",
   "metadata": {
    "tags": []
   },
   "outputs": [],
   "source": [
    "import numpy as np\n",
    "import torch\n",
    "torch.set_default_dtype(torch.float64)\n",
    "\n",
    "import h5py as h5\n",
    "\n",
    "import tdg\n",
    "import tdg.HMC as HMC\n",
    "import tdg.plot as visualize\n",
    "\n",
    "import matplotlib.pyplot as plt\n",
    "from tqdm.notebook import tqdm"
   ]
  },
  {
   "cell_type": "code",
   "execution_count": null,
   "id": "a3e53c8b-c078-400c-ba8e-6768c6c9bcec",
   "metadata": {
    "tags": []
   },
   "outputs": [],
   "source": [
    "storage = 'analysis.h5'"
   ]
  },
  {
   "cell_type": "markdown",
   "id": "00684659",
   "metadata": {},
   "source": [
    "Let's study a small, hot example for computational simplicity."
   ]
  },
  {
   "cell_type": "code",
   "execution_count": null,
   "id": "da70f6ac-46d1-4fa6-b116-04ea97c33509",
   "metadata": {
    "tags": []
   },
   "outputs": [],
   "source": [
    "nx = 5\n",
    "lattice = tdg.Lattice(nx)\n",
    "\n",
    "ere = tdg.EffectiveRangeExpansion(torch.tensor([1.0]))\n",
    "\n",
    "tuning = tdg.AnalyticTuning(ere, lattice)\n",
    "print(f'{tuning.C[0]}')"
   ]
  },
  {
   "cell_type": "code",
   "execution_count": null,
   "id": "e389350a",
   "metadata": {
    "tags": []
   },
   "outputs": [],
   "source": [
    "nt = 8\n",
    "beta = torch.tensor(1)\n",
    "mu = torch.tensor(-1.5)\n",
    "h  = torch.tensor([0,0,0], dtype=torch.float64)\n",
    "\n",
    "S = tuning.Action(nt, beta, mu, h)"
   ]
  },
  {
   "cell_type": "markdown",
   "id": "e747ac7d",
   "metadata": {},
   "source": [
    "We could in principle use one Hamiltonian to do do the HMC Metropolis-Hastings accept/reject step and another to do the molecular dynamics integration.\n",
    "\n",
    "Here we use the same Hamiltonian for both."
   ]
  },
  {
   "cell_type": "code",
   "execution_count": null,
   "id": "5a0fd21c",
   "metadata": {
    "tags": []
   },
   "outputs": [],
   "source": [
    "H = HMC.Hamiltonian(S)\n",
    "integrator = HMC.Omelyan(H, 20, 1)\n",
    "hmc = HMC.MarkovChain(H, integrator)"
   ]
  },
  {
   "cell_type": "markdown",
   "id": "948bba31",
   "metadata": {},
   "source": [
    "Let's start from a configuration sampled from the \"quenched\" distribution, which ignores the fermion determinant."
   ]
  },
  {
   "cell_type": "code",
   "execution_count": null,
   "id": "818cecb1-9926-4365-a651-8015d573b0fd",
   "metadata": {
    "tags": []
   },
   "outputs": [],
   "source": [
    "configurations = 1200\n",
    "\n",
    "try:\n",
    "    with h5.File(storage, 'r') as f:\n",
    "        ensemble = tdg.ensemble.GrandCanonical.from_h5(f['/ensemble'])\n",
    "    if len(ensemble) < configurations:\n",
    "        raise\n",
    "except:\n",
    "    ensemble = tdg.ensemble.GrandCanonical(S).generate(configurations, hmc, start='hot', progress=tqdm)\n",
    "    with h5.File(storage, 'w') as f:\n",
    "        ensemble.to_h5(f.create_group('/ensemble'))"
   ]
  },
  {
   "cell_type": "markdown",
   "id": "69536958-2ffc-46b9-ba4b-0514dd5eeeae",
   "metadata": {
    "tags": []
   },
   "source": [
    "We can visualize an observable."
   ]
  },
  {
   "cell_type": "code",
   "execution_count": null,
   "id": "5c66adfa-072e-4b70-aa03-93c20897fdbe",
   "metadata": {},
   "outputs": [],
   "source": [
    "viz = visualize.History(3)\n",
    "viz.plot(ensemble.S.real, 0)\n",
    "viz.plot(ensemble.N('bosonic').real, 1)\n",
    "viz.plot(ensemble.Spin(0).real, 1) # Another way of calculating N('fermionic')\n",
    "viz.plot(ensemble.Spin(1).real, 2)\n",
    "viz.plot(ensemble.Spin(2).real, 2)\n",
    "viz.plot(ensemble.Spin(3).real, 2)"
   ]
  },
  {
   "cell_type": "code",
   "execution_count": null,
   "id": "e7489128-b5b0-4c81-82ea-01431429d26e",
   "metadata": {},
   "outputs": [],
   "source": [
    "from tdg.analysis import Binning"
   ]
  },
  {
   "cell_type": "code",
   "execution_count": null,
   "id": "14991629-a9d8-4380-a85d-1823d1f659e0",
   "metadata": {},
   "outputs": [],
   "source": [
    "binned = Binning(ensemble.cut(200).every(4), 4)"
   ]
  },
  {
   "cell_type": "markdown",
   "id": "f722227d-9385-4730-bcf6-f1ee872e1042",
   "metadata": {},
   "source": [
    "How many samples should be have, given that the ensemble started with 1200 configurations?"
   ]
  },
  {
   "cell_type": "code",
   "execution_count": null,
   "id": "2262c5ca-5288-431e-94f2-888bae870984",
   "metadata": {},
   "outputs": [],
   "source": [
    "expected = (\n",
    "    (\n",
    "        configurations-200 # cut\n",
    "    )/4 # every\n",
    ") / 4 # binning\n",
    "print(f'The binning has {binned.bins} samples, while we expected {expected}')"
   ]
  },
  {
   "cell_type": "code",
   "execution_count": null,
   "id": "9352dc5f-2910-44f5-b186-6f0b9ead0c52",
   "metadata": {},
   "outputs": [],
   "source": [
    "viz = visualize.ScatterTriangle(2)\n",
    "viz.plot(\n",
    "    (binned.N('bosonic'  ).real,\n",
    "     binned.N('fermionic').real\n",
    "    ))"
   ]
  }
 ],
 "metadata": {
  "kernelspec": {
   "display_name": "Python 3 (ipykernel)",
   "language": "python",
   "name": "python3"
  },
  "language_info": {
   "codemirror_mode": {
    "name": "ipython",
    "version": 3
   },
   "file_extension": ".py",
   "mimetype": "text/x-python",
   "name": "python",
   "nbconvert_exporter": "python",
   "pygments_lexer": "ipython3",
   "version": "3.9.13"
  }
 },
 "nbformat": 4,
 "nbformat_minor": 5
}
