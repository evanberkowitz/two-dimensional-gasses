{
 "cells": [
  {
   "cell_type": "markdown",
   "id": "36dc7b79-83da-4e0a-9144-6fcfa13932cc",
   "metadata": {},
   "source": [
    "<font color='red'>For this to succeed you must have run the examples/hmc.ipynb!</font>\n",
    "\n",
    "We reuse the previously-generated example ensemble."
   ]
  },
  {
   "cell_type": "markdown",
   "id": "d28c3014-6ec2-4255-add1-77cc50a6edf4",
   "metadata": {
    "jp-MarkdownHeadingCollapsed": true,
    "tags": []
   },
   "source": [
    "# Setup"
   ]
  },
  {
   "cell_type": "code",
   "execution_count": null,
   "id": "6ada8417-ce23-455c-96e8-3b9de64ce5b2",
   "metadata": {},
   "outputs": [],
   "source": [
    "import numpy as np\n",
    "import torch\n",
    "\n",
    "print(f'{torch.version.git_version=}')\n",
    "print(f'{torch.version.hip=}')\n",
    "print(f'{torch.version.debug=}')\n",
    "print(f'{torch.version.cuda=}')\n",
    "\n",
    "cpu = torch.device('cpu')\n",
    "\n",
    "if torch.cuda.is_available():\n",
    "    device = torch.device('cuda')\n",
    "    print(f'Using GPU {torch.cuda.current_device()}')\n",
    "    torch.set_default_tensor_type('torch.cuda.DoubleTensor')\n",
    "else:\n",
    "    device = torch.device('cpu')\n",
    "    torch.set_default_tensor_type(torch.DoubleTensor)"
   ]
  },
  {
   "cell_type": "code",
   "execution_count": null,
   "id": "94833879",
   "metadata": {
    "tags": []
   },
   "outputs": [],
   "source": [
    "import numpy as np\n",
    "import h5py as h5\n",
    "\n",
    "import tdg\n",
    "import tdg.HMC as HMC\n",
    "import tdg.plot as visualize\n",
    "\n",
    "import matplotlib.pyplot as plt\n",
    "from tqdm.notebook import tqdm"
   ]
  },
  {
   "cell_type": "code",
   "execution_count": null,
   "id": "5c66adfa-072e-4b70-aa03-93c20897fdbe",
   "metadata": {},
   "outputs": [],
   "source": [
    "def plot_history(ensemble, history=None, label=None):\n",
    "    \n",
    "    if history is None:\n",
    "        history = visualize.History(7)\n",
    "    \n",
    "    history.plot(ensemble.S.real,              0, x=ensemble.index, label=label)\n",
    "    history.plot(ensemble.N.real,              1, x=ensemble.index, label=('fermionic' if not label else label))\n",
    "    history.plot(ensemble.Kinetic.real,        2, x=ensemble.index, label=label)\n",
    "    history.plot(ensemble.Potential.real,      3, x=ensemble.index, label=label)\n",
    "    history.plot(ensemble.InternalEnergy.real, 4, x=ensemble.index, label=label)\n",
    "    history.plot(ensemble.Contact.real,        5, x=ensemble.index, label=label)\n",
    "    \n",
    "    history.plot(ensemble.Spin[:,0].real,      6, x=ensemble.index, label=label)\n",
    "    history.plot(ensemble.Spin[:,1].real,      6, x=ensemble.index, label=label)\n",
    "    history.plot(ensemble.Spin[:,2].real,      6, x=ensemble.index, label=label)\n",
    "\n",
    "    history.ax[0,0].set_ylabel('S')\n",
    "    history.ax[1,0].set_ylabel('N')\n",
    "    history.ax[2,0].set_ylabel('K')\n",
    "    history.ax[3,0].set_ylabel('V')\n",
    "    history.ax[4,0].set_ylabel('U')\n",
    "    history.ax[5,0].set_ylabel('Contact')\n",
    "    history.ax[6,0].set_ylabel('Spin')\n",
    "    \n",
    "    return history"
   ]
  },
  {
   "cell_type": "markdown",
   "id": "c991d7aa-b906-462e-96aa-6365dc8edf57",
   "metadata": {},
   "source": [
    "# Read the ensemble"
   ]
  },
  {
   "cell_type": "code",
   "execution_count": null,
   "id": "c974fd19-2d5d-44ca-ae40-a8a78703ba0b",
   "metadata": {},
   "outputs": [],
   "source": [
    "storage = 'hmc.h5'"
   ]
  },
  {
   "cell_type": "code",
   "execution_count": null,
   "id": "68a0bbd3-99a0-4d4d-93a7-430e46d1eb0e",
   "metadata": {},
   "outputs": [],
   "source": [
    "with h5.File(storage, 'r') as f:\n",
    "    ensemble = tdg.ensemble.GrandCanonical.from_h5(f['/example'])"
   ]
  },
  {
   "cell_type": "code",
   "execution_count": null,
   "id": "4a200267-ea1f-4053-8213-f0dc4de086a9",
   "metadata": {},
   "outputs": [],
   "source": [
    "plot_history(ensemble)"
   ]
  },
  {
   "cell_type": "markdown",
   "id": "431529d4-1a71-47d3-8dcf-9a0fe0b1ce72",
   "metadata": {},
   "source": [
    "# Binning"
   ]
  },
  {
   "cell_type": "markdown",
   "id": "22a576e9-0aef-4b6c-8df3-e03b769a9b63",
   "metadata": {},
   "source": [
    "We've got 2000 configurations.  We can drop some for thermalization, keep only every 4th and bin every (remaining) 4th to help keep autocorrelation down."
   ]
  },
  {
   "cell_type": "code",
   "execution_count": null,
   "id": "1560c362-a30b-4928-87fd-866f99e492b0",
   "metadata": {},
   "outputs": [],
   "source": [
    "thermalization=200\n",
    "frequency=6\n",
    "binning=4"
   ]
  },
  {
   "cell_type": "code",
   "execution_count": null,
   "id": "14991629-a9d8-4380-a85d-1823d1f659e0",
   "metadata": {},
   "outputs": [],
   "source": [
    "binned = ensemble.cut(thermalization).every(frequency).binned(binning)"
   ]
  },
  {
   "cell_type": "markdown",
   "id": "f722227d-9385-4730-bcf6-f1ee872e1042",
   "metadata": {},
   "source": [
    "How many samples should we have, given that the ensemble started with 2000 configurations?"
   ]
  },
  {
   "cell_type": "code",
   "execution_count": null,
   "id": "2262c5ca-5288-431e-94f2-888bae870984",
   "metadata": {},
   "outputs": [],
   "source": [
    "expected = (\n",
    "    (\n",
    "        len(ensemble)-thermalization # cut\n",
    "    )/frequency # every\n",
    ") / binning # binning\n",
    "print(f'The binning has {len(binned)} samples, while we expected {expected}')"
   ]
  },
  {
   "cell_type": "markdown",
   "id": "975d4f03-29ec-4d8b-ba2a-104c877d2885",
   "metadata": {},
   "source": [
    "Let's compare the binned samples with the original ensemble."
   ]
  },
  {
   "cell_type": "code",
   "execution_count": null,
   "id": "9352dc5f-2910-44f5-b186-6f0b9ead0c52",
   "metadata": {},
   "outputs": [],
   "source": [
    "viz = visualize.ScatterTriangle(2)\n",
    "viz.plot(\n",
    "    (ensemble.N_bosonic.real,\n",
    "     ensemble.N.real\n",
    "    ))\n",
    "viz.plot(\n",
    "    (binned.N_bosonic.real,\n",
    "     binned.N.real\n",
    "    ))"
   ]
  },
  {
   "cell_type": "markdown",
   "id": "d9d38b70-d5ce-4b83-8aeb-83ab5959de20",
   "metadata": {},
   "source": [
    "We can see how the binning averages samples across Markov chain time."
   ]
  },
  {
   "cell_type": "code",
   "execution_count": null,
   "id": "88c1bd70-a43d-4ae5-806c-6d9eaaef276a",
   "metadata": {},
   "outputs": [],
   "source": [
    "viz = plot_history(ensemble, label='ensemble')\n",
    "viz = plot_history(binned, history=viz, label='binned')\n",
    "\n",
    "viz.ax[0,0].legend()"
   ]
  },
  {
   "cell_type": "markdown",
   "id": "a5c2798a-c955-4997-9d2d-15c6d7e95b5c",
   "metadata": {},
   "source": [
    "# Bootstrapping"
   ]
  },
  {
   "cell_type": "markdown",
   "id": "68ae1446-0791-4b28-8981-8e1d47ada432",
   "metadata": {},
   "source": [
    "Let us compare different binnings and rest assured that our uncertainty estimate is big enough once the bootstrap errors stabilize."
   ]
  },
  {
   "cell_type": "code",
   "execution_count": null,
   "id": "7282d583-de68-4f93-bf49-cc47cee68dc6",
   "metadata": {},
   "outputs": [],
   "source": [
    "def naive_estimate(obs):\n",
    "    return f'{obs.real.mean():.2f}±{obs.real.std()/torch.sqrt(torch.tensor(obs.shape[0])):.2f}'\n",
    "\n",
    "def bootstrap_estimate(obs):\n",
    "    return f'{obs.real.mean():.2f}±{obs.real.std():.2f}'"
   ]
  },
  {
   "cell_type": "markdown",
   "id": "4ad1c911-a24a-449c-983d-c6a3b9913547",
   "metadata": {},
   "source": [
    "We repeat the binning for different bin widths (not dropping any measurements).\n",
    "\n",
    "We see that the uncertainties have stabilized: the binnings of widths 16 and 24 give approximately the same uncertainty."
   ]
  },
  {
   "cell_type": "code",
   "execution_count": null,
   "id": "98c7e376-5a98-41fe-8fea-86e26f457cde",
   "metadata": {},
   "outputs": [],
   "source": [
    "print(f\"ENSEMBLE\")\n",
    "# This obviously uses an extremely naive estimate for the uncertainty!\n",
    "print(f\"fermionic N: {naive_estimate(ensemble.N)}\")\n",
    "print(f\"bosonic   N: {naive_estimate(ensemble.N_bosonic)}\")\n",
    "print(f\"action:      {naive_estimate(ensemble.S)}\")\n",
    "print(f\"Contact:     {naive_estimate(ensemble.Contact)}\\n\")\n",
    "\n",
    "viz = visualize.ScatterTriangle(4, figsize=(12,12), labels=('fermionic N', 'bosonic N', 'action', 'Contact',))\n",
    "for width in [1, 2, 4, 8, 16, 24]:\n",
    "    binned = ensemble.cut(thermalization).binned(width)\n",
    "    bootstrap = binned.bootstrapped()\n",
    "    viz.plot(\n",
    "        (bootstrap.N_bosonic.real,\n",
    "         bootstrap.N.real,\n",
    "         bootstrap.S.real,\n",
    "         bootstrap.Contact.real,\n",
    "        ))\n",
    "    \n",
    "    print(f\"BOOTSTRAP {width=} ({len(binned)} bins)\")\n",
    "    print(f\"fermionic N: {bootstrap_estimate(bootstrap.N)}\")\n",
    "    print(f\"bosonic   N: {bootstrap_estimate(bootstrap.N_bosonic)}\")\n",
    "    print(f\"action:      {bootstrap_estimate(bootstrap.S)}\")\n",
    "    print(f\"Contact:     {bootstrap_estimate(bootstrap.Contact)}\\n\")\n"
   ]
  }
 ],
 "metadata": {
  "kernelspec": {
   "display_name": "Python 3 (ipykernel)",
   "language": "python",
   "name": "python3"
  },
  "language_info": {
   "codemirror_mode": {
    "name": "ipython",
    "version": 3
   },
   "file_extension": ".py",
   "mimetype": "text/x-python",
   "name": "python",
   "nbconvert_exporter": "python",
   "pygments_lexer": "ipython3",
   "version": "3.9.13"
  }
 },
 "nbformat": 4,
 "nbformat_minor": 5
}
