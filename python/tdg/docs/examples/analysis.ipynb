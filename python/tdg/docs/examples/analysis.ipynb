{
 "cells": [
  {
   "cell_type": "code",
   "execution_count": null,
   "id": "94833879",
   "metadata": {
    "tags": []
   },
   "outputs": [],
   "source": [
    "import numpy as np\n",
    "import torch\n",
    "torch.set_default_dtype(torch.float64)\n",
    "\n",
    "import h5py as h5\n",
    "\n",
    "import tdg\n",
    "import tdg.HMC as HMC\n",
    "import tdg.plot as visualize\n",
    "\n",
    "import matplotlib.pyplot as plt\n",
    "from tqdm.notebook import tqdm"
   ]
  },
  {
   "cell_type": "code",
   "execution_count": null,
   "id": "a3e53c8b-c078-400c-ba8e-6768c6c9bcec",
   "metadata": {
    "tags": []
   },
   "outputs": [],
   "source": [
    "storage = 'analysis.h5'"
   ]
  },
  {
   "cell_type": "markdown",
   "id": "00684659",
   "metadata": {},
   "source": [
    "Let's study a small, hot example for computational simplicity."
   ]
  },
  {
   "cell_type": "code",
   "execution_count": null,
   "id": "da70f6ac-46d1-4fa6-b116-04ea97c33509",
   "metadata": {
    "tags": []
   },
   "outputs": [],
   "source": [
    "nx = 5\n",
    "lattice = tdg.Lattice(nx)\n",
    "\n",
    "ere = tdg.EffectiveRangeExpansion(torch.tensor([1.0]))\n",
    "\n",
    "tuning = tdg.AnalyticTuning(ere, lattice)\n",
    "print(f'{tuning.C[0]}')"
   ]
  },
  {
   "cell_type": "code",
   "execution_count": null,
   "id": "e389350a",
   "metadata": {
    "tags": []
   },
   "outputs": [],
   "source": [
    "nt = 8\n",
    "beta = torch.tensor(1/25.)\n",
    "mu = torch.tensor(-1.5*25.)\n",
    "h  = torch.tensor([0,0,0], dtype=torch.float64)\n",
    "\n",
    "S = tuning.Action(nt, beta, mu, h)"
   ]
  },
  {
   "cell_type": "markdown",
   "id": "e747ac7d",
   "metadata": {},
   "source": [
    "We could in principle use one Hamiltonian to do do the HMC Metropolis-Hastings accept/reject step and another to do the molecular dynamics integration.\n",
    "\n",
    "Here we use the same Hamiltonian for both."
   ]
  },
  {
   "cell_type": "code",
   "execution_count": null,
   "id": "5a0fd21c",
   "metadata": {
    "tags": []
   },
   "outputs": [],
   "source": [
    "H = HMC.Hamiltonian(S)\n",
    "integrator = HMC.Omelyan(H, 20, 1)\n",
    "hmc = HMC.MarkovChain(H, integrator)"
   ]
  },
  {
   "cell_type": "markdown",
   "id": "948bba31",
   "metadata": {},
   "source": [
    "Let's start from a configuration sampled from the \"quenched\" distribution, which ignores the fermion determinant."
   ]
  },
  {
   "cell_type": "code",
   "execution_count": null,
   "id": "818cecb1-9926-4365-a651-8015d573b0fd",
   "metadata": {
    "tags": []
   },
   "outputs": [],
   "source": [
    "configurations = 1200\n",
    "\n",
    "try:\n",
    "    with h5.File(storage, 'r') as f:\n",
    "        ensemble = tdg.ensemble.GrandCanonical.from_h5(f['/ensemble'])\n",
    "    if len(ensemble) < configurations:\n",
    "        raise\n",
    "    \n",
    "except:\n",
    "    ensemble = tdg.ensemble.GrandCanonical(S).generate(configurations, hmc, start='hot', progress=tqdm)\n",
    "    with h5.File(storage, 'w') as f:\n",
    "        ensemble.to_h5(f.create_group('/ensemble'))"
   ]
  },
  {
   "cell_type": "markdown",
   "id": "69536958-2ffc-46b9-ba4b-0514dd5eeeae",
   "metadata": {
    "tags": []
   },
   "source": [
    "We can visualize an observable."
   ]
  },
  {
   "cell_type": "code",
   "execution_count": null,
   "id": "5c66adfa-072e-4b70-aa03-93c20897fdbe",
   "metadata": {},
   "outputs": [],
   "source": [
    "viz = visualize.History(3)\n",
    "viz.plot(ensemble.S.real, 0)\n",
    "viz.plot(ensemble.N('bosonic').real, 1)\n",
    "viz.plot(ensemble.Spin(0).real, 1) # Another way of calculating N('fermionic')\n",
    "viz.plot(ensemble.Spin(1).real, 2)\n",
    "viz.plot(ensemble.Spin(2).real, 2)\n",
    "viz.plot(ensemble.Spin(3).real, 2)"
   ]
  },
  {
   "cell_type": "markdown",
   "id": "431529d4-1a71-47d3-8dcf-9a0fe0b1ce72",
   "metadata": {},
   "source": [
    "# Binning"
   ]
  },
  {
   "cell_type": "code",
   "execution_count": null,
   "id": "14991629-a9d8-4380-a85d-1823d1f659e0",
   "metadata": {},
   "outputs": [],
   "source": [
    "binned = ensemble.cut(200).every(4).binned(4)"
   ]
  },
  {
   "cell_type": "markdown",
   "id": "f722227d-9385-4730-bcf6-f1ee872e1042",
   "metadata": {},
   "source": [
    "How many samples should be have, given that the ensemble started with 1200 configurations?"
   ]
  },
  {
   "cell_type": "code",
   "execution_count": null,
   "id": "2262c5ca-5288-431e-94f2-888bae870984",
   "metadata": {},
   "outputs": [],
   "source": [
    "expected = (\n",
    "    (\n",
    "        configurations-200 # cut\n",
    "    )/4 # every\n",
    ") / 4 # binning\n",
    "print(f'The binning has {len(binned)} samples, while we expected {expected}')"
   ]
  },
  {
   "cell_type": "markdown",
   "id": "975d4f03-29ec-4d8b-ba2a-104c877d2885",
   "metadata": {},
   "source": [
    "Let's compare the binned samples with the original ensemble."
   ]
  },
  {
   "cell_type": "code",
   "execution_count": null,
   "id": "9352dc5f-2910-44f5-b186-6f0b9ead0c52",
   "metadata": {},
   "outputs": [],
   "source": [
    "viz = visualize.ScatterTriangle(2)\n",
    "viz.plot(\n",
    "    (ensemble.N('bosonic'  ).real,\n",
    "     ensemble.N('fermionic').real\n",
    "    ))\n",
    "viz.plot(\n",
    "    (binned.N('bosonic'  ).real,\n",
    "     binned.N('fermionic').real\n",
    "    ))"
   ]
  },
  {
   "cell_type": "markdown",
   "id": "d9d38b70-d5ce-4b83-8aeb-83ab5959de20",
   "metadata": {},
   "source": [
    "We can see how the binning averages samples across Markov chain time."
   ]
  },
  {
   "cell_type": "code",
   "execution_count": null,
   "id": "771b3e2a-83a9-46c3-8bdb-15b3144fb5c3",
   "metadata": {},
   "outputs": [],
   "source": [
    "viz = visualize.History(5)\n",
    "viz.plot(ensemble.S.real, 0)\n",
    "viz.plot(ensemble.N('bosonic').real, 1)\n",
    "viz.plot(ensemble.Spin(0).real, 2) # Another way of calculating N('fermionic')\n",
    "viz.plot(ensemble.Spin(1).real, 3)\n",
    "viz.plot(ensemble.Contact('fermionic').real, 4)\n",
    "\n",
    "viz.plot(binned.S.real, x=binned.index, row=0)\n",
    "viz.plot(binned.N('bosonic').real, x=binned.index, row=1)\n",
    "viz.plot(binned.Spin(0).real, x=binned.index, row=2) # Another way of calculating N('fermionic')\n",
    "viz.plot(binned.Spin(1).real, x=binned.index, row=3)\n",
    "viz.plot(binned.Contact('fermionic').real, x=binned.index, row=4)"
   ]
  },
  {
   "cell_type": "markdown",
   "id": "a5c2798a-c955-4997-9d2d-15c6d7e95b5c",
   "metadata": {},
   "source": [
    "# Bootstrapping"
   ]
  },
  {
   "cell_type": "markdown",
   "id": "68ae1446-0791-4b28-8981-8e1d47ada432",
   "metadata": {},
   "source": [
    "Let us compare different binnings and rest assured that our uncertainty estimate is big enough once the bootstrap errors stabilize."
   ]
  },
  {
   "cell_type": "code",
   "execution_count": null,
   "id": "7282d583-de68-4f93-bf49-cc47cee68dc6",
   "metadata": {},
   "outputs": [],
   "source": [
    "def naive_estimate(obs):\n",
    "    return f'{obs.real.mean():.2f}±{obs.real.std()/torch.sqrt(torch.tensor(obs.shape[0])):.2f}'\n",
    "\n",
    "def bootstrap_estimate(obs):\n",
    "    return f'{obs.real.mean():.2f}±{obs.real.std():.2f}'"
   ]
  },
  {
   "cell_type": "code",
   "execution_count": null,
   "id": "98c7e376-5a98-41fe-8fea-86e26f457cde",
   "metadata": {},
   "outputs": [],
   "source": [
    "print(f\"ENSEMBLE\")\n",
    "# This obviously uses an extremely naive estimate for the uncertainty!\n",
    "print(f\"fermionic N: {naive_estimate(ensemble.N('fermionic'))}\")\n",
    "print(f\"bosonic   N: {naive_estimate(ensemble.N('bosonic'))}\")\n",
    "print(f\"action:      {naive_estimate(ensemble.S)}\")\n",
    "print(f\"Contact:     {naive_estimate(ensemble.Contact('fermionic'))}\\n\")\n",
    "\n",
    "viz = visualize.ScatterTriangle(4, figsize=(12,12), labels=('fermionic N', 'bosonic N', 'action', 'Contact',))\n",
    "for width in [1, 2, 4, 8, 16, 24, 32]:\n",
    "    bootstrap = ensemble.cut(200).binned(width).bootstrapped()\n",
    "    viz.plot(\n",
    "        (bootstrap.N('bosonic'  ).real,\n",
    "         bootstrap.N('fermionic').real,\n",
    "         bootstrap.S.real,\n",
    "         bootstrap.Contact('fermionic').real,\n",
    "        ))\n",
    "    \n",
    "    print(f\"BOOTSTRAP {width=} ({len(binned)} bins)\")\n",
    "    print(f\"fermionic N: {bootstrap_estimate(bootstrap.N('fermionic'))}\")\n",
    "    print(f\"bosonic   N: {bootstrap_estimate(bootstrap.N('bosonic'))}\")\n",
    "    print(f\"action:      {bootstrap_estimate(bootstrap.S)}\")\n",
    "    print(f\"Contact:     {bootstrap_estimate(bootstrap.Contact('fermionic'))}\\n\")\n"
   ]
  },
  {
   "cell_type": "markdown",
   "id": "eaac23e0-1865-4e9e-baed-0eb91e4fb9b9",
   "metadata": {},
   "source": [
    "We see that the uncertainties have stabilized: the binnings of widths 24 and 32 give approximately the same uncertainty."
   ]
  }
 ],
 "metadata": {
  "kernelspec": {
   "display_name": "Python 3 (ipykernel)",
   "language": "python",
   "name": "python3"
  },
  "language_info": {
   "codemirror_mode": {
    "name": "ipython",
    "version": 3
   },
   "file_extension": ".py",
   "mimetype": "text/x-python",
   "name": "python",
   "nbconvert_exporter": "python",
   "pygments_lexer": "ipython3",
   "version": "3.9.13"
  }
 },
 "nbformat": 4,
 "nbformat_minor": 5
}
