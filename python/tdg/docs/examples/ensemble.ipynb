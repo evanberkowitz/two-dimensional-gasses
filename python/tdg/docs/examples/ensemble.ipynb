{
 "cells": [
  {
   "cell_type": "code",
   "execution_count": null,
   "id": "94833879",
   "metadata": {
    "tags": []
   },
   "outputs": [],
   "source": [
    "import numpy as np\n",
    "import torch\n",
    "torch.set_default_dtype(torch.float64)\n",
    "\n",
    "import h5py as h5\n",
    "\n",
    "import tdg\n",
    "import tdg.HMC as HMC\n",
    "\n",
    "import matplotlib.pyplot as plt\n",
    "from tqdm.notebook import tqdm"
   ]
  },
  {
   "cell_type": "code",
   "execution_count": null,
   "id": "a3e53c8b-c078-400c-ba8e-6768c6c9bcec",
   "metadata": {
    "tags": []
   },
   "outputs": [],
   "source": [
    "storage = 'ensemble.h5'"
   ]
  },
  {
   "cell_type": "markdown",
   "id": "00684659",
   "metadata": {},
   "source": [
    "Let's study a small, hot example for computational simplicity."
   ]
  },
  {
   "cell_type": "code",
   "execution_count": null,
   "id": "da70f6ac-46d1-4fa6-b116-04ea97c33509",
   "metadata": {
    "tags": []
   },
   "outputs": [],
   "source": [
    "nx = 5\n",
    "lattice = tdg.Lattice(nx)\n",
    "\n",
    "ere = tdg.EffectiveRangeExpansion(torch.tensor([1.0]))\n",
    "\n",
    "tuning = tdg.AnalyticTuning(ere, lattice)\n",
    "print(f'{tuning.C[0]}')"
   ]
  },
  {
   "cell_type": "code",
   "execution_count": null,
   "id": "e389350a",
   "metadata": {
    "tags": []
   },
   "outputs": [],
   "source": [
    "nt = 8\n",
    "beta = torch.tensor(0.04)\n",
    "mu = torch.tensor(3.125)\n",
    "h  = torch.tensor([0,0,0], dtype=torch.float64)\n",
    "\n",
    "S = tuning.Action(nt, beta, mu, h)"
   ]
  },
  {
   "cell_type": "markdown",
   "id": "e747ac7d",
   "metadata": {},
   "source": [
    "We could in principle use one Hamiltonian to do do the HMC Metropolis-Hastings accept/reject step and another to do the molecular dynamics integration.\n",
    "\n",
    "Here we use the same Hamiltonian for both."
   ]
  },
  {
   "cell_type": "code",
   "execution_count": null,
   "id": "5a0fd21c",
   "metadata": {
    "tags": []
   },
   "outputs": [],
   "source": [
    "H = HMC.Hamiltonian(S)\n",
    "integrator = HMC.Omelyan(H, 20, 1)\n",
    "hmc = HMC.MarkovChain(H, integrator)"
   ]
  },
  {
   "cell_type": "markdown",
   "id": "948bba31",
   "metadata": {},
   "source": [
    "Let's start from a configuration sampled from the \"quenched\" distribution, which ignores the fermion determinant."
   ]
  },
  {
   "cell_type": "code",
   "execution_count": null,
   "id": "818cecb1-9926-4365-a651-8015d573b0fd",
   "metadata": {
    "tags": []
   },
   "outputs": [],
   "source": [
    "ensemble = tdg.ensemble.GrandCanonical(S).generate(100, hmc, start='hot', progress=tqdm)"
   ]
  },
  {
   "cell_type": "markdown",
   "id": "69536958-2ffc-46b9-ba4b-0514dd5eeeae",
   "metadata": {},
   "source": [
    "We can visualize an observable."
   ]
  },
  {
   "cell_type": "code",
   "execution_count": null,
   "id": "11dd19ce-8e01-47ec-8dd5-e84af9b48da3",
   "metadata": {},
   "outputs": [],
   "source": [
    "import tdg.plot as visualize"
   ]
  },
  {
   "cell_type": "code",
   "execution_count": null,
   "id": "91ffecf4-5554-4760-b486-92eeb93cf544",
   "metadata": {},
   "outputs": [],
   "source": [
    "viz = visualize.History()\n",
    "viz.plot(ensemble.N.real)"
   ]
  },
  {
   "cell_type": "markdown",
   "id": "81786079-05fd-43d0-8dfa-0a0f8e7f7a36",
   "metadata": {},
   "source": [
    "Let's write it to storage and read it back in."
   ]
  },
  {
   "cell_type": "code",
   "execution_count": null,
   "id": "38cff9d8-f887-4f3a-b29f-cb31b8788727",
   "metadata": {
    "tags": []
   },
   "outputs": [],
   "source": [
    "with h5.File(storage, 'w') as f:\n",
    "    ensemble.to_h5(f.create_group('/example'))\n",
    "with h5.File(storage, 'r') as f:\n",
    "    ENSEMBLE = tdg.ensemble.GrandCanonical.from_h5(f['/example'])"
   ]
  },
  {
   "cell_type": "markdown",
   "id": "cdc188d4",
   "metadata": {},
   "source": [
    "And now perhaps we wish to visualize some OTHER observables, like the action itself and the bosonic number estimator."
   ]
  },
  {
   "cell_type": "code",
   "execution_count": null,
   "id": "5c66adfa-072e-4b70-aa03-93c20897fdbe",
   "metadata": {},
   "outputs": [],
   "source": [
    "viz = visualize.History(2)\n",
    "viz.plot(ENSEMBLE.S.real, 0)\n",
    "viz.plot(ENSEMBLE.N_bosonic.real, 1)"
   ]
  },
  {
   "cell_type": "markdown",
   "id": "c2e991a6-852e-4bb3-805c-b8f0654f1889",
   "metadata": {},
   "source": [
    "How do the bosonic and fermionic number estimators compare?"
   ]
  },
  {
   "cell_type": "code",
   "execution_count": null,
   "id": "2970b153-9b67-4fc7-89c6-9aa71ae871fb",
   "metadata": {},
   "outputs": [],
   "source": [
    "comparison = visualize.ScatterTriangle(2)\n",
    "comparison.plot(\n",
    "    (ENSEMBLE.N_bosonic.real,\n",
    "     ENSEMBLE.N.real\n",
    "    ))"
   ]
  }
 ],
 "metadata": {
  "kernelspec": {
   "display_name": "Python 3 (ipykernel)",
   "language": "python",
   "name": "python3"
  },
  "language_info": {
   "codemirror_mode": {
    "name": "ipython",
    "version": 3
   },
   "file_extension": ".py",
   "mimetype": "text/x-python",
   "name": "python",
   "nbconvert_exporter": "python",
   "pygments_lexer": "ipython3",
   "version": "3.9.13"
  }
 },
 "nbformat": 4,
 "nbformat_minor": 5
}
