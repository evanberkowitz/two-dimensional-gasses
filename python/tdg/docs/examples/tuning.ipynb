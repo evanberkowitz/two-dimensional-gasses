{
 "cells": [
  {
   "cell_type": "code",
   "execution_count": null,
   "id": "781ce69b",
   "metadata": {},
   "outputs": [],
   "source": [
    "import numpy as np\n",
    "import torch\n",
    "import tdg\n",
    "from tdg import EffectiveRangeExpansion\n",
    "from tdg import ReducedTwoBodyA1Hamiltonian as A1\n",
    "from tdg.Luescher import Zeta2D\n",
    "\n",
    "import matplotlib.pyplot as plt"
   ]
  },
  {
   "cell_type": "code",
   "execution_count": null,
   "id": "32caac7d",
   "metadata": {},
   "outputs": [],
   "source": [
    "torch.set_printoptions(precision=8)\n",
    "Z = Zeta2D()"
   ]
  },
  {
   "cell_type": "markdown",
   "id": "f0e7458e",
   "metadata": {},
   "source": [
    "To go towards the continuum limit we want to hold the scattering fixed"
   ]
  },
  {
   "cell_type": "code",
   "execution_count": null,
   "id": "1d12aa37",
   "metadata": {},
   "outputs": [],
   "source": [
    "ere = EffectiveRangeExpansion(torch.tensor([1.0]))"
   ]
  },
  {
   "cell_type": "markdown",
   "id": "8835936a",
   "metadata": {},
   "source": [
    "and describe what interaction we want to use"
   ]
  },
  {
   "cell_type": "code",
   "execution_count": null,
   "id": "97ec46df",
   "metadata": {},
   "outputs": [],
   "source": [
    "radii = [[0,0]]"
   ]
  },
  {
   "cell_type": "markdown",
   "id": "44b993c6",
   "metadata": {},
   "source": [
    "Let's tune many discretizations!"
   ]
  },
  {
   "cell_type": "code",
   "execution_count": null,
   "id": "5f601bf6",
   "metadata": {},
   "outputs": [],
   "source": [
    "# Fewer will finish faster, obviously!\n",
    "# NX = np.arange(7, 13, 2)   # Takes about 5 minutes on my laptop\n",
    "NX = np.arange(7, 29, 2)   # Takes about 18 minutes on my laptop"
   ]
  },
  {
   "cell_type": "markdown",
   "id": "fd95ac2e",
   "metadata": {},
   "source": [
    "and store computed results in a dictionary."
   ]
  },
  {
   "cell_type": "code",
   "execution_count": null,
   "id": "1cd709e6",
   "metadata": {},
   "outputs": [],
   "source": [
    "tuning = {\n",
    "    #  For a starting guess for nx we'll use the results for nx-2.\n",
    "    #  I have a starting guess for 7, courtesy of Mathematica.\n",
    "    5: tdg.Tuning(ere, tdg.Lattice(5), radii, C=torch.tensor([-5.]))\n",
    "}"
   ]
  },
  {
   "cell_type": "code",
   "execution_count": null,
   "id": "040bc6b7",
   "metadata": {},
   "outputs": [],
   "source": [
    "%%time\n",
    "for nx in NX:\n",
    "    if nx in tuning:\n",
    "        continue\n",
    "    tuning[nx] = tdg.Tuning(ere, tdg.Lattice(nx), radii, starting_guess=tuning[nx-2].C)\n",
    "    print(f\"{nx=}: {tuning[nx]}:\")\n",
    "    print(f\"        {tuning[nx].C}\")"
   ]
  },
  {
   "cell_type": "markdown",
   "id": "676fbe59",
   "metadata": {},
   "source": [
    "We process these coefficients into energy eigenvalues and dimensionless x.\n",
    "\n",
    "x goes through the Luescher zeta function."
   ]
  },
  {
   "cell_type": "code",
   "execution_count": null,
   "id": "61116e6f",
   "metadata": {},
   "outputs": [],
   "source": [
    "H = {nx: A1(tdg.Lattice(nx), [tdg.LegoSphere(r) for r in radii]) for nx in NX}\n",
    "E = {nx: H[nx].eigenenergies(tuning[nx].C) for nx in NX}\n",
    "x = {nx: E[nx] * nx**2 / (2*torch.pi)**2 for nx in NX}\n",
    "z = {nx: Z(x[nx]) / torch.pi**2 for nx in NX}"
   ]
  },
  {
   "cell_type": "markdown",
   "id": "77d2302e",
   "metadata": {},
   "source": [
    "Now we can visualize how well our tuning did!"
   ]
  },
  {
   "cell_type": "code",
   "execution_count": null,
   "id": "8cfce493",
   "metadata": {},
   "outputs": [],
   "source": [
    "fig, ax = plt.subplots(1,1, figsize=(12,8))\n",
    "\n",
    "\n",
    "# First draw the zeta function.\n",
    "exact = torch.linspace(-5.001, 25.001, 1000)\n",
    "Z.plot(ax, exact, color='gray')\n",
    "\n",
    "# and the analytic piece of the ERE\n",
    "ax.plot(exact, ere.analytic(exact).clone().detach(), color='black', linestyle='dashed')\n",
    "\n",
    "# then, for each spatial discretization\n",
    "for nx in NX:\n",
    "    ax.plot(\n",
    "        x[nx].clone().detach().numpy(),\n",
    "        z[nx].clone().detach().numpy(),\n",
    "        linestyle='none', marker='o',\n",
    "        label=f'{nx=}'\n",
    "    )\n",
    "\n",
    "ax.set_xlim([-5,25])\n",
    "ax.set_ylim([-1,1])\n",
    "ax.legend();"
   ]
  },
  {
   "cell_type": "markdown",
   "id": "661fc817",
   "metadata": {},
   "source": [
    "Looks like the two-body energy levels are converging as expected!"
   ]
  },
  {
   "cell_type": "code",
   "execution_count": null,
   "id": "62aa9268",
   "metadata": {},
   "outputs": [],
   "source": [
    "levels = [1, 2, 3, 4, 5, 6]\n",
    "\n",
    "fig, axs = plt.subplots(len(levels), 1, figsize=(12, 8 * len(levels)), squeeze=False, sharex=True)\n",
    "axs = [ax[0] for ax in axs]\n",
    "\n",
    "for level, ax in zip(levels, axs):\n",
    "    for nx in NX:\n",
    "        ax.plot(\n",
    "            [1/nx**2],\n",
    "            [x[nx][level].clone().detach().numpy()],\n",
    "            marker='o'\n",
    "        )\n",
    "    ax.set_xlabel(r'$1/N_x^2$')\n",
    "    ax.set_ylabel(r'$x$')\n",
    "\n",
    "axs[0].set_xlim([0, 1.1/min(NX)**2]);"
   ]
  },
  {
   "cell_type": "markdown",
   "id": "5aa40234",
   "metadata": {},
   "source": [
    "The convergence appears to be QUADRATIC with nx!"
   ]
  },
  {
   "cell_type": "markdown",
   "id": "68d6ed71",
   "metadata": {},
   "source": [
    "How does the coefficient approach the continuum?"
   ]
  },
  {
   "cell_type": "code",
   "execution_count": null,
   "id": "93b76f39",
   "metadata": {},
   "outputs": [],
   "source": [
    "fig, ax = plt.subplots(1,1, figsize=(12,8))\n",
    "\n",
    "CatalanG = 0.9159655941772190\n",
    "\n",
    "nxInverse=torch.linspace(0, 0.2, 1000)\n",
    "amplitudeAnswer = (-2 * torch.pi / (torch.log(0.5 * ere.a / nxInverse) + torch.log(torch.tensor(2)) - 2 * CatalanG / torch.pi))\n",
    "\n",
    "ax.plot(nxInverse.detach(), amplitudeAnswer.detach(), color='black')\n",
    "\n",
    "for nx in NX:\n",
    "    ax.plot([1/nx], [tuning[nx].C.detach().numpy()],\n",
    "        marker='o'\n",
    "        )\n",
    "\n",
    "ax.set_xlabel(r\"$1/N_x$\")\n",
    "ax.set_ylabel(r\"$C_0$\");"
   ]
  },
  {
   "cell_type": "markdown",
   "id": "8bc79605-104c-4b65-9d17-b63c47bc3689",
   "metadata": {},
   "source": [
    "Let's try to visualize the convergence of the states.  \n",
    "\n",
    "We'll take as reference the coarsest lattice we tuned and look at ratios of eigenenergies compared to that lattice's energies."
   ]
  },
  {
   "cell_type": "code",
   "execution_count": null,
   "id": "e61e474c",
   "metadata": {},
   "outputs": [],
   "source": [
    "levels = [0, 1, 2, 3, 4, 5, 6]\n",
    "\n",
    "fig, ax = plt.subplots(2, 1, figsize=(12, 8), squeeze=True, sharex=True)\n",
    "\n",
    "reference = min(NX)\n",
    "for level in levels:\n",
    "    ax[0].plot(\n",
    "        (1/NX**2),\n",
    "        [(E[nx][level]/E[reference][level]).detach().numpy() for nx in NX],\n",
    "        marker='o',\n",
    "        linestyle='none'\n",
    "    )\n",
    "    ax[1].plot(\n",
    "        (1/NX**2),\n",
    "        [(x[nx][level]/x[reference][level]).detach().numpy() for nx in NX],\n",
    "        marker='o',\n",
    "        linestyle='none',\n",
    "        label=f'{level=}'\n",
    "    )\n",
    "    \n",
    "ax[0].set_xlim([0, 1.1/min(NX)**2]);\n",
    "ax[0].plot([0, 1/min(NX)**2], [0,1], label=r'perfect $N_{x}^{-2}$');\n",
    "ax[0].set_ylim([0, 1.1]);\n",
    "ax[0].set_ylabel(r'$E_{N_x}/E_'+f'{reference}'+r'$')\n",
    "ax[1].set_ylabel(r'$x_{N_x}/x_'+f'{reference}'+r'$')\n",
    "ax[1].set_xlabel(r'$1/N_x^2$')\n",
    "ax[0].legend()\n",
    "ax[1].legend()"
   ]
  },
  {
   "cell_type": "markdown",
   "id": "a806a727-bd0d-4bc8-aa22-fa8dd3414d2d",
   "metadata": {},
   "source": [
    "We see that all energies go to 0 like $N_x^{-2}$ as we head towards the $N_x=\\infty$ limit, while the Lüscher $x$ go to their nonvanishing continuum value the same way.  (The $0^{th}$ level stays fixed trivially with no corrections, as that's what we tuned!)"
   ]
  },
  {
   "cell_type": "code",
   "execution_count": null,
   "id": "414c11dd-9ebd-44cb-b9d4-0f3323fd1e4e",
   "metadata": {},
   "outputs": [],
   "source": []
  }
 ],
 "metadata": {
  "kernelspec": {
   "display_name": "Python 3 (ipykernel)",
   "language": "python",
   "name": "python3"
  },
  "language_info": {
   "codemirror_mode": {
    "name": "ipython",
    "version": 3
   },
   "file_extension": ".py",
   "mimetype": "text/x-python",
   "name": "python",
   "nbconvert_exporter": "python",
   "pygments_lexer": "ipython3",
   "version": "3.9.13"
  }
 },
 "nbformat": 4,
 "nbformat_minor": 5
}
