{
 "cells": [
  {
   "cell_type": "markdown",
   "id": "b8270997-0db1-4810-a1bc-895d4ca6cc4b",
   "metadata": {
    "jp-MarkdownHeadingCollapsed": true,
    "tags": []
   },
   "source": [
    "# Setup"
   ]
  },
  {
   "cell_type": "code",
   "execution_count": null,
   "id": "9129dbbc-774a-4d8e-ac9b-f4515c5a2bb9",
   "metadata": {},
   "outputs": [],
   "source": [
    "import numpy as np\n",
    "import torch\n",
    "\n",
    "print(f'{torch.version.git_version=}')\n",
    "print(f'{torch.version.hip=}')\n",
    "print(f'{torch.version.debug=}')\n",
    "print(f'{torch.version.cuda=}')\n",
    "\n",
    "cpu = torch.device('cpu')\n",
    "\n",
    "if torch.cuda.is_available():\n",
    "    device = torch.device('cuda')\n",
    "    print(f'Using GPU {torch.cuda.current_device()}')\n",
    "    torch.set_default_tensor_type('torch.cuda.DoubleTensor')\n",
    "else:\n",
    "    device = torch.device('cpu')\n",
    "    torch.set_default_tensor_type(torch.DoubleTensor)"
   ]
  },
  {
   "cell_type": "code",
   "execution_count": null,
   "id": "c04acc6a-4870-4cd2-af69-0ed234447e1e",
   "metadata": {},
   "outputs": [],
   "source": [
    "import h5py as h5\n",
    "\n",
    "import tdg\n",
    "import tdg.HMC as HMC\n",
    "import tdg.plot as visualize\n",
    "\n",
    "import matplotlib.pyplot as plt\n",
    "from tqdm.notebook import tqdm"
   ]
  },
  {
   "cell_type": "code",
   "execution_count": null,
   "id": "9379f4de-979f-4bb2-878e-d7e6cf7122f2",
   "metadata": {},
   "outputs": [],
   "source": [
    "import logging\n",
    "logging.basicConfig()\n",
    "logging.getLogger().setLevel(logging.WARNING)\n",
    "logger = logging.getLogger(__name__)"
   ]
  },
  {
   "cell_type": "markdown",
   "id": "effd8f21-3990-4864-bc84-0869b9228165",
   "metadata": {
    "jp-MarkdownHeadingCollapsed": true,
    "tags": []
   },
   "source": [
    "# Physics Parameters"
   ]
  },
  {
   "cell_type": "markdown",
   "id": "7e63f181-283a-407f-b3cc-05216982968f",
   "metadata": {},
   "source": [
    "Let's study a small, hot example for computational simplicity."
   ]
  },
  {
   "cell_type": "code",
   "execution_count": null,
   "id": "486b8ae9-fcb2-4c94-beed-c83e879e4a06",
   "metadata": {
    "tags": []
   },
   "outputs": [],
   "source": [
    "nx = 5\n",
    "lattice = tdg.Lattice(nx)\n",
    "\n",
    "ere = tdg.EffectiveRangeExpansion(torch.tensor([1.0]))\n",
    "\n",
    "tuning = tdg.AnalyticTuning(ere, lattice)\n",
    "print(f'{tuning.C[0]}')"
   ]
  },
  {
   "cell_type": "code",
   "execution_count": null,
   "id": "80d9111f-3c00-4be0-8e13-1281073de3c6",
   "metadata": {
    "tags": []
   },
   "outputs": [],
   "source": [
    "nt = 8\n",
    "beta = torch.tensor(1/25.)\n",
    "mu = torch.tensor(-1.5*25.)\n",
    "h  = torch.tensor([0,0,0], dtype=torch.float64)\n",
    "\n",
    "S = tuning.Action(nt, beta, mu, h)"
   ]
  },
  {
   "cell_type": "markdown",
   "id": "e65067d9-6a72-4be4-826a-ecda6e5215e3",
   "metadata": {
    "jp-MarkdownHeadingCollapsed": true,
    "tags": []
   },
   "source": [
    "# Markov Chain Parameters"
   ]
  },
  {
   "cell_type": "markdown",
   "id": "b29f2da8-f4f2-46a7-905c-b028308bd30c",
   "metadata": {},
   "source": [
    "What should we use to generate our Markov Chain?  In particular, if we use HMC we need to specify an integrator.\n",
    "\n",
    "If you don't have a good guess for how many molecular dynamics steps you want, you might want to autotune."
   ]
  },
  {
   "cell_type": "code",
   "execution_count": null,
   "id": "94385a6d-f3fc-47e7-b7b6-a0310638d632",
   "metadata": {
    "tags": []
   },
   "outputs": [],
   "source": [
    "H = HMC.Hamiltonian(S)\n",
    "A = HMC.Autotuner(H, HMC.Omelyan, cfgs_per_estimate=20)\n",
    "integrator, start = A.target(0.75, start='hot', starting_md_steps=20, progress=tqdm)\n",
    "\n",
    "fig, ax = plt.subplots(2,1, figsize=(8,6))\n",
    "A.plot_history(ax[0])\n",
    "A.plot_models(ax[1])\n",
    "ax[1].legend()\n",
    "fig.tight_layout()"
   ]
  },
  {
   "cell_type": "markdown",
   "id": "302fdd3d-3f4e-4040-a6e0-300789e32d98",
   "metadata": {
    "jp-MarkdownHeadingCollapsed": true,
    "tags": []
   },
   "source": [
    "# Production"
   ]
  },
  {
   "cell_type": "markdown",
   "id": "94d6d3ec-862a-4145-a49b-dae5c905c561",
   "metadata": {},
   "source": [
    "Now we're ready to produce some configurations!"
   ]
  },
  {
   "cell_type": "code",
   "execution_count": null,
   "id": "08de95d3-24ce-4f22-97be-1ad0e56da68a",
   "metadata": {},
   "outputs": [],
   "source": [
    "configurations = 1000"
   ]
  },
  {
   "cell_type": "code",
   "execution_count": null,
   "id": "98236ea7-7aec-408e-b823-88915d42b538",
   "metadata": {},
   "outputs": [],
   "source": [
    "hmc = HMC.MarkovChain(H, integrator)\n",
    "ensemble = tdg.ensemble.GrandCanonical(S).generate(configurations, hmc, start=start, progress=tqdm)"
   ]
  },
  {
   "cell_type": "code",
   "execution_count": null,
   "id": "1142b3f7-a4b1-4662-b298-06ec499fe3d7",
   "metadata": {},
   "outputs": [],
   "source": [
    "def plot_history(ensemble, history=None, label=None):\n",
    "    \n",
    "    if history is None:\n",
    "        history = visualize.History(6)\n",
    "    \n",
    "    history.plot(ensemble.S.real,              0, x=ensemble.index, label=label)\n",
    "    history.plot(ensemble.N.real,              1, x=ensemble.index, label=('fermionic' if not label else label))\n",
    "    history.plot(ensemble.Kinetic.real,        2, x=ensemble.index, label=label)\n",
    "    history.plot(ensemble.Potential.real,      3, x=ensemble.index, label=label)\n",
    "    history.plot(ensemble.InternalEnergy.real, 4, x=ensemble.index, label=label)\n",
    "    history.plot(ensemble.Contact.real,        5, x=ensemble.index, label=label)\n",
    "\n",
    "    history.ax[0,0].set_ylabel('S')\n",
    "    history.ax[1,0].set_ylabel('N')\n",
    "    history.ax[2,0].set_ylabel('K')\n",
    "    history.ax[3,0].set_ylabel('V')\n",
    "    history.ax[4,0].set_ylabel('U')\n",
    "    history.ax[5,0].set_ylabel('Contact')\n",
    "    \n",
    "    return history"
   ]
  },
  {
   "cell_type": "code",
   "execution_count": null,
   "id": "646f3210-ea54-4b8d-bf19-a5b2a833e403",
   "metadata": {},
   "outputs": [],
   "source": [
    "viz = plot_history(ensemble)\n",
    "\n",
    "viz.plot(ensemble.N_bosonic.real, 1, label='bosonic'  )\n",
    "viz.ax[1,1].legend()"
   ]
  },
  {
   "cell_type": "code",
   "execution_count": null,
   "id": "623a509e-715a-495f-9b3b-2b559f0ea178",
   "metadata": {},
   "outputs": [],
   "source": [
    "viz = visualize.ScatterTriangle(6,\n",
    "    ('S', 'N', 'K', 'V', 'U', 'Contact'),\n",
    "    )\n",
    "\n",
    "viz.plot(\n",
    "    (ensemble.S.real,\n",
    "     ensemble.N.real,\n",
    "     ensemble.Kinetic.real,\n",
    "     ensemble.Potential.real,\n",
    "     ensemble.InternalEnergy.real,\n",
    "     ensemble.Contact.real,\n",
    "    ))"
   ]
  },
  {
   "cell_type": "markdown",
   "id": "7ba00e56-9061-4d05-b636-af9c9342a6bd",
   "metadata": {},
   "source": [
    "We can compare the fermionic and bosonic number estimators."
   ]
  },
  {
   "cell_type": "code",
   "execution_count": null,
   "id": "1cf22b18-f6f5-4f34-b09c-246a70fc16ba",
   "metadata": {},
   "outputs": [],
   "source": [
    "correlation = visualize.ScatterTriangle(2,\n",
    "    ('fermionic', 'bosonic'))\n",
    "correlation.plot((ensemble.N.real, ensemble.N_bosonic.real))\n",
    "correlation.grid[1,0].plot([-5,15],[-5,15], linestyle=':', color='black')"
   ]
  },
  {
   "cell_type": "markdown",
   "id": "8ccee63a-cd35-4c51-8987-ddd576f05337",
   "metadata": {
    "jp-MarkdownHeadingCollapsed": true,
    "tags": []
   },
   "source": [
    "# Storing to disk"
   ]
  },
  {
   "cell_type": "markdown",
   "id": "dcf2a104-0607-4b26-ba64-f994f99c09ce",
   "metadata": {},
   "source": [
    "We can write an ensemble to disk."
   ]
  },
  {
   "cell_type": "code",
   "execution_count": null,
   "id": "d6067166-4922-42a2-ae1f-1af8e8dfcac0",
   "metadata": {},
   "outputs": [],
   "source": [
    "storage='hmc.h5'"
   ]
  },
  {
   "cell_type": "code",
   "execution_count": null,
   "id": "d6d2708e-1562-4924-95b3-a872ec89cd54",
   "metadata": {},
   "outputs": [],
   "source": [
    "with h5.File(storage, 'w') as f:\n",
    "    ensemble.to_h5(f.create_group('/example'))"
   ]
  },
  {
   "cell_type": "markdown",
   "id": "6d3e2a01-5da1-4ba5-abd0-fa8a373580c1",
   "metadata": {
    "tags": []
   },
   "source": [
    "# Continuing Production"
   ]
  },
  {
   "cell_type": "markdown",
   "id": "9a1406d8-5fdc-4adb-9304-878b2d0d9bd5",
   "metadata": {},
   "source": [
    "We can continue either from the ensemble already in memory or from the ensemble now on disk.\n",
    "\n",
    "Let's compare the two methods."
   ]
  },
  {
   "cell_type": "markdown",
   "id": "f9b49bb8-8c94-41e7-a334-6e844c012f36",
   "metadata": {},
   "source": [
    "To get the same results we must use the same random numbers."
   ]
  },
  {
   "cell_type": "code",
   "execution_count": null,
   "id": "de872377-42d7-4d28-b201-fa844e43f2a2",
   "metadata": {},
   "outputs": [],
   "source": [
    "rng_state = torch.get_rng_state()\n",
    "if torch.cuda.is_available():\n",
    "    rng_state_gpu = torch.cuda.get_rng_state()"
   ]
  },
  {
   "cell_type": "markdown",
   "id": "19efc350-eefd-4ae8-9f88-bfe1afa588f3",
   "metadata": {},
   "source": [
    "Now let's continue from what's in memory."
   ]
  },
  {
   "cell_type": "code",
   "execution_count": null,
   "id": "6a4e9dc8-7ce9-4bdc-8f4d-26695ab22982",
   "metadata": {},
   "outputs": [],
   "source": [
    "torch.set_rng_state(rng_state)\n",
    "if torch.cuda.is_available():\n",
    "    torch.cuda.set_rng_state(rng_state_gpu)\n",
    "\n",
    "from_memory = tdg.ensemble.GrandCanonical.continue_from(ensemble, configurations, progress=tqdm)"
   ]
  },
  {
   "cell_type": "markdown",
   "id": "b73750f5-318d-4cb3-9e60-ce5ff4e6b2d8",
   "metadata": {},
   "source": [
    "We can also continue from what's on disk."
   ]
  },
  {
   "cell_type": "code",
   "execution_count": null,
   "id": "5cc95866-688d-4592-9892-e51fff43193f",
   "metadata": {},
   "outputs": [],
   "source": [
    "torch.set_rng_state(rng_state)\n",
    "if torch.cuda.is_available():\n",
    "    torch.cuda.set_rng_state(rng_state_gpu)\n",
    "\n",
    "with h5.File(storage, 'r') as f:\n",
    "    from_disk = tdg.ensemble.GrandCanonical.continue_from(f['/example'], configurations, progress=tqdm)"
   ]
  },
  {
   "cell_type": "markdown",
   "id": "36430623-f548-4838-99f3-0e509f9f3c0f",
   "metadata": {},
   "source": [
    "To compare, let's plot observables from the two continuations on top of one another and hope for perfect agreement."
   ]
  },
  {
   "cell_type": "code",
   "execution_count": null,
   "id": "b29e6c69-c744-4a4a-bf47-1d63deaca6f8",
   "metadata": {},
   "outputs": [],
   "source": [
    "viz = plot_history(from_memory, label='from memory')\n",
    "viz = plot_history(from_disk, history=viz, label='from disk')\n",
    "\n",
    "viz.plot(from_memory.N_bosonic.real, 1, x=from_memory.index, label='from memory'  )\n",
    "viz.plot(from_disk  .N_bosonic.real, 1, x=from_disk  .index, label='from disk'    )\n",
    "\n",
    "viz.ax[0,0].legend()"
   ]
  },
  {
   "cell_type": "markdown",
   "id": "360be763-ae86-4f65-a120-1a8b8520e5f3",
   "metadata": {},
   "source": [
    "Since they match, let's write one, appending it to the ensemble already on disk."
   ]
  },
  {
   "cell_type": "code",
   "execution_count": null,
   "id": "0cf403cd-0328-447b-b0a8-19d1364558d4",
   "metadata": {},
   "outputs": [],
   "source": [
    "with h5.File(storage, 'a') as f:\n",
    "    from_disk.extend_h5(f['/example'])"
   ]
  },
  {
   "cell_type": "markdown",
   "id": "83c08010-f7bb-4f9a-9c2d-ce4c88a9ddcf",
   "metadata": {},
   "source": [
    "We can check that the appending succeeded again by comparing observables."
   ]
  },
  {
   "cell_type": "code",
   "execution_count": null,
   "id": "593aabf9-2062-4d16-936a-f433de390f7c",
   "metadata": {},
   "outputs": [],
   "source": [
    "with h5.File(storage, 'r') as f:\n",
    "    combined = tdg.ensemble.GrandCanonical.from_h5(f['/example'])\n",
    "    \n",
    "viz = plot_history(combined, label='combined on disk')\n",
    "viz = plot_history(ensemble,    history=viz, label='original ensemble')\n",
    "viz = plot_history(from_memory, history=viz, label='extension')\n",
    "\n",
    "viz.ax[0,0].legend()"
   ]
  }
 ],
 "metadata": {
  "kernelspec": {
   "display_name": "Python 3 (ipykernel)",
   "language": "python",
   "name": "python3"
  },
  "language_info": {
   "codemirror_mode": {
    "name": "ipython",
    "version": 3
   },
   "file_extension": ".py",
   "mimetype": "text/x-python",
   "name": "python",
   "nbconvert_exporter": "python",
   "pygments_lexer": "ipython3",
   "version": "3.9.13"
  }
 },
 "nbformat": 4,
 "nbformat_minor": 5
}
