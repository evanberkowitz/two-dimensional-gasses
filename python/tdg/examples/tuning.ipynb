{
 "cells": [
  {
   "cell_type": "code",
   "execution_count": null,
   "id": "781ce69b",
   "metadata": {},
   "outputs": [],
   "source": [
    "import numpy as np\n",
    "import torch\n",
    "import tdg\n",
    "from tdg import EffectiveRangeExpansion\n",
    "from tdg import ReducedTwoBodyA1Hamiltonian as A1\n",
    "from tdg.Luescher import Zeta2D\n",
    "\n",
    "import matplotlib.pyplot as plt"
   ]
  },
  {
   "cell_type": "code",
   "execution_count": null,
   "id": "32caac7d",
   "metadata": {},
   "outputs": [],
   "source": [
    "torch.set_printoptions(precision=8)\n",
    "Z = Zeta2D()"
   ]
  },
  {
   "cell_type": "markdown",
   "id": "f1452f93",
   "metadata": {},
   "source": [
    "Here's a simple tuning routine that takes the ERE, LegoSphere radii, sites, and a starting guess."
   ]
  },
  {
   "cell_type": "code",
   "execution_count": null,
   "id": "209b92ec",
   "metadata": {},
   "outputs": [],
   "source": [
    "def tune(ere, radii, nx, start):\n",
    "    lattice =tdg.Lattice(nx)\n",
    "    # Construct the two-body Hamiltonian\n",
    "    H   = A1(lattice, [tdg.LegoSphere(r) for r in radii])\n",
    "    # Use \"inverse Lüscher\" to find one energy level for each sphere we need to tune\n",
    "    energies = ere.target_energies(lattice, H.spheres)\n",
    "    # and tune H until we find coefficients that reproduce those energies.\n",
    "    coefficients = H.tuning(\n",
    "        energies.clone().detach(),\n",
    "        start=start.clone().detach().requires_grad_(True)\n",
    "    )\n",
    "    return coefficients"
   ]
  },
  {
   "cell_type": "markdown",
   "id": "f0e7458e",
   "metadata": {},
   "source": [
    "To go towards the continuum limit we want to hold the scattering fixed"
   ]
  },
  {
   "cell_type": "code",
   "execution_count": null,
   "id": "1d12aa37",
   "metadata": {},
   "outputs": [],
   "source": [
    "ere = EffectiveRangeExpansion(torch.tensor([1.0, 0.0]))"
   ]
  },
  {
   "cell_type": "markdown",
   "id": "8835936a",
   "metadata": {},
   "source": [
    "and describe what interaction we want to use"
   ]
  },
  {
   "cell_type": "code",
   "execution_count": null,
   "id": "97ec46df",
   "metadata": {},
   "outputs": [],
   "source": [
    "radii = [[0,0]]"
   ]
  },
  {
   "cell_type": "markdown",
   "id": "44b993c6",
   "metadata": {},
   "source": [
    "Let's tune many discretizations!"
   ]
  },
  {
   "cell_type": "code",
   "execution_count": null,
   "id": "5f601bf6",
   "metadata": {},
   "outputs": [],
   "source": [
    "# Fewer will finish faster, obviously!\n",
    "NX = np.arange(7, 29, 2)"
   ]
  },
  {
   "cell_type": "markdown",
   "id": "fd95ac2e",
   "metadata": {},
   "source": [
    "and store computed results in a dictionary."
   ]
  },
  {
   "cell_type": "code",
   "execution_count": null,
   "id": "1cd709e6",
   "metadata": {},
   "outputs": [],
   "source": [
    "C = {\n",
    "    #  For a starting guess for nx we'll use the results for nx-2.\n",
    "    #  I have a starting guess for 7, courtesy of Mathematica.\n",
    "    5: torch.tensor([-5.])\n",
    "}"
   ]
  },
  {
   "cell_type": "code",
   "execution_count": null,
   "id": "040bc6b7",
   "metadata": {},
   "outputs": [],
   "source": [
    "# Warning: this step takes some time!  11 minutes on my laptop.\n",
    "for nx in NX:\n",
    "    if nx in C:\n",
    "        continue\n",
    "    C[nx] = tune(ere, radii, nx, C[nx-2])\n",
    "    print(f\"{nx=}: {C[nx]}\")"
   ]
  },
  {
   "cell_type": "markdown",
   "id": "676fbe59",
   "metadata": {},
   "source": [
    "We process these coefficients into energy eigenvalues and dimensionless x.\n",
    "\n",
    "x goes through the Luescher zeta function."
   ]
  },
  {
   "cell_type": "code",
   "execution_count": null,
   "id": "61116e6f",
   "metadata": {},
   "outputs": [],
   "source": [
    "H = {nx: A1(tdg.Lattice(nx), [tdg.LegoSphere(r) for r in radii]) for nx in NX}\n",
    "E = {nx: H[nx].eigenenergies(C[nx]) for nx in NX}\n",
    "x = {nx: E[nx] * nx**2 / (2*torch.pi)**2 for nx in NX}\n",
    "z = {nx: Z(x[nx]) / torch.pi**2 for nx in NX}"
   ]
  },
  {
   "cell_type": "markdown",
   "id": "77d2302e",
   "metadata": {},
   "source": [
    "Now we can visualize how well our tuning did!"
   ]
  },
  {
   "cell_type": "code",
   "execution_count": null,
   "id": "8cfce493",
   "metadata": {},
   "outputs": [],
   "source": [
    "fig, ax = plt.subplots(1,1, figsize=(12,8))\n",
    "\n",
    "\n",
    "# First draw the zeta function.\n",
    "exact = torch.linspace(-5.001, 25.001, 1000)\n",
    "Z.plot(ax, exact, color='gray')\n",
    "\n",
    "# and the analytic piece of the ERE\n",
    "ax.plot(exact, ere.analytic(exact), color='black', linestyle='dashed')\n",
    "\n",
    "# then, for each spatial discretization\n",
    "for nx in NX:\n",
    "    ax.plot(\n",
    "        x[nx].clone().detach().numpy(),\n",
    "        z[nx].clone().detach().numpy(),\n",
    "        linestyle='none', marker='o',\n",
    "        label=f'{nx=}'\n",
    "    )\n",
    "\n",
    "ax.set_xlim([-5,25])\n",
    "ax.set_ylim([-1,1])\n",
    "ax.legend();"
   ]
  },
  {
   "cell_type": "markdown",
   "id": "661fc817",
   "metadata": {},
   "source": [
    "Looks like the two-body energy levels are converging as expected!"
   ]
  },
  {
   "cell_type": "code",
   "execution_count": null,
   "id": "62aa9268",
   "metadata": {},
   "outputs": [],
   "source": [
    "levels = [1, 2, 3, 4, 5, 6]\n",
    "\n",
    "fig, axs = plt.subplots(len(levels), 1, figsize=(12, 8 * len(levels)), squeeze=False, sharex=True)\n",
    "axs = [ax[0] for ax in axs]\n",
    "\n",
    "for level, ax in zip(levels, axs):\n",
    "    for nx in NX:\n",
    "        ax.plot(\n",
    "            [1/nx**2],\n",
    "            [x[nx][level].clone().detach().numpy()],\n",
    "            marker='o'\n",
    "        )\n",
    "    ax.set_xlabel(r'$1/N_x^2$')\n",
    "    ax.set_ylabel(r'$x$')\n",
    "\n",
    "axs[0].set_xlim([0, 1.1/min(NX)**2]);"
   ]
  },
  {
   "cell_type": "markdown",
   "id": "5aa40234",
   "metadata": {},
   "source": [
    "The convergence appears to be QUADRATIC with nx!"
   ]
  },
  {
   "cell_type": "markdown",
   "id": "68d6ed71",
   "metadata": {},
   "source": [
    "How does the coefficient approach the continuum?"
   ]
  },
  {
   "cell_type": "code",
   "execution_count": null,
   "id": "93b76f39",
   "metadata": {},
   "outputs": [],
   "source": [
    "fig, ax = plt.subplots(1,1, figsize=(12,8))\n",
    "\n",
    "nxInverse=torch.linspace(0, 0.2, 1000)\n",
    "amplitudeAnswer = (-2*np.pi / torch.log( torch.exp(torch.tensor(ere._gamma)) / nxInverse * ere.a / 2))\n",
    "\n",
    "ax.plot(nxInverse.detach(), amplitudeAnswer.detach(), color='black')\n",
    "\n",
    "for nx in NX:\n",
    "    ax.plot([1/nx], [C[nx].detach().numpy()],\n",
    "        marker='o'\n",
    "        )\n",
    "\n",
    "ax.set_xlabel(r\"$1/N_x$\")\n",
    "ax.set_ylabel(r\"$C_0$\");"
   ]
  },
  {
   "cell_type": "code",
   "execution_count": null,
   "id": "e61e474c",
   "metadata": {},
   "outputs": [],
   "source": []
  }
 ],
 "metadata": {
  "kernelspec": {
   "display_name": "Python 3 (ipykernel)",
   "language": "python",
   "name": "python3"
  },
  "language_info": {
   "codemirror_mode": {
    "name": "ipython",
    "version": 3
   },
   "file_extension": ".py",
   "mimetype": "text/x-python",
   "name": "python",
   "nbconvert_exporter": "python",
   "pygments_lexer": "ipython3",
   "version": "3.9.13"
  }
 },
 "nbformat": 4,
 "nbformat_minor": 5
}
