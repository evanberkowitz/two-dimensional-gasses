{
 "cells": [
  {
   "cell_type": "code",
   "execution_count": null,
   "id": "94833879",
   "metadata": {},
   "outputs": [],
   "source": [
    "import numpy as np\n",
    "import torch\n",
    "torch.set_default_dtype(torch.float64)\n",
    "import h5py as h5\n",
    "\n",
    "import tdg\n",
    "import tdg.HMC as HMC\n",
    "\n",
    "import matplotlib.pyplot as plt\n",
    "from tqdm.notebook import tqdm"
   ]
  },
  {
   "cell_type": "markdown",
   "id": "00684659",
   "metadata": {},
   "source": [
    "Let's study a small, hot example for computational simplicity."
   ]
  },
  {
   "cell_type": "code",
   "execution_count": null,
   "id": "e389350a",
   "metadata": {},
   "outputs": [],
   "source": [
    "nx = 7\n",
    "nt = 32\n",
    "lattice = tdg.Lattice(nx)\n",
    "spacetime = tdg.Spacetime(nt, lattice)\n",
    "\n",
    "beta = torch.tensor(1)\n",
    "mu = torch.tensor(0.125)\n",
    "h  = torch.tensor([0,0,0], dtype=torch.float64)\n",
    "\n",
    "contact = (-5)*tdg.LegoSphere([0,0])\n",
    "V = tdg.Potential(contact)\n",
    "\n",
    "S = tdg.Action(spacetime, V, beta, mu, h)"
   ]
  },
  {
   "cell_type": "markdown",
   "id": "e747ac7d",
   "metadata": {},
   "source": [
    "We could in principle use one Hamiltonian to do do the HMC Metropolis-Hastings accept/reject step and another to do the molecular dynamics integration.\n",
    "\n",
    "Here we use the same Hamiltonian for both."
   ]
  },
  {
   "cell_type": "code",
   "execution_count": null,
   "id": "5a0fd21c",
   "metadata": {},
   "outputs": [],
   "source": [
    "H = HMC.Hamiltonian(S)\n",
    "# integrator = HMC.LeapFrog(H, 100, 1)\n",
    "integrator = HMC.Omelyan(H, 50, 1)\n",
    "hmc = HMC.MarkovChain(H, integrator)"
   ]
  },
  {
   "cell_type": "markdown",
   "id": "d2b219c7",
   "metadata": {},
   "source": [
    "We decide how many steps we'll do and allocate some space to store the configurations."
   ]
  },
  {
   "cell_type": "code",
   "execution_count": null,
   "id": "e5c3a1b7",
   "metadata": {},
   "outputs": [],
   "source": [
    "steps = 50   # takes about 1-2 minutes on my laptop\n",
    "# steps = 1000 # takes about 35 minutes on my laptop\n",
    "\n",
    "configuration    = spacetime.vector(steps).to(torch.complex128)"
   ]
  },
  {
   "cell_type": "markdown",
   "id": "948bba31",
   "metadata": {},
   "source": [
    "Let's start from a configuration sampled from the \"quenched\" distribution, which ignores the fermion determinant."
   ]
  },
  {
   "cell_type": "code",
   "execution_count": null,
   "id": "37ec05e8",
   "metadata": {},
   "outputs": [],
   "source": [
    "configuration[0] = S.quenched_sample()"
   ]
  },
  {
   "cell_type": "markdown",
   "id": "40a149d7",
   "metadata": {},
   "source": [
    "Thundercats go!"
   ]
  },
  {
   "cell_type": "code",
   "execution_count": null,
   "id": "e45828bc",
   "metadata": {},
   "outputs": [],
   "source": [
    "for mcmc_step in tqdm(range(1,steps)):\n",
    "     configuration[mcmc_step] = hmc.step(configuration[mcmc_step-1]).real\n",
    "        "
   ]
  },
  {
   "cell_type": "markdown",
   "id": "cdc188d4",
   "metadata": {},
   "source": [
    "And now perhaps we wish to visualize some observables, like the action itself"
   ]
  },
  {
   "cell_type": "code",
   "execution_count": null,
   "id": "0e2cc7ce",
   "metadata": {},
   "outputs": [],
   "source": [
    "s = torch.stack([S(c) for c in configuration])\n",
    "\n",
    "plt.plot(s.real.detach().numpy());"
   ]
  },
  {
   "cell_type": "markdown",
   "id": "5cca5c2d",
   "metadata": {},
   "source": [
    "and the total auxiliary field."
   ]
  },
  {
   "cell_type": "code",
   "execution_count": null,
   "id": "13008bad",
   "metadata": {},
   "outputs": [],
   "source": [
    "PHI = torch.sum(configuration, (1,2)).detach().numpy()\n",
    "\n",
    "plt.plot(PHI.real);"
   ]
  },
  {
   "cell_type": "code",
   "execution_count": null,
   "id": "507e1054",
   "metadata": {},
   "outputs": [],
   "source": []
  }
 ],
 "metadata": {
  "kernelspec": {
   "display_name": "Python 3 (ipykernel)",
   "language": "python",
   "name": "python3"
  },
  "language_info": {
   "codemirror_mode": {
    "name": "ipython",
    "version": 3
   },
   "file_extension": ".py",
   "mimetype": "text/x-python",
   "name": "python",
   "nbconvert_exporter": "python",
   "pygments_lexer": "ipython3",
   "version": "3.8.12"
  }
 },
 "nbformat": 4,
 "nbformat_minor": 5
}
