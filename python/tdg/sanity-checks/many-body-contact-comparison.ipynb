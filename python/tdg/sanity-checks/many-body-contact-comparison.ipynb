{
 "cells": [
  {
   "cell_type": "code",
   "execution_count": null,
   "id": "5771d640-7055-4113-b877-ad60f78a4a0a",
   "metadata": {},
   "outputs": [],
   "source": [
    "import torch\n",
    "torch.set_default_dtype(torch.float64)\n",
    "import tdg\n",
    "\n",
    "import tdg.HMC as HMC\n",
    "from tqdm.notebook import tqdm\n",
    "\n",
    "import tdg.plot as visualize\n",
    "import matplotlib.pyplot as plt\n",
    "\n",
    "import h5py as h5"
   ]
  },
  {
   "cell_type": "markdown",
   "id": "7b6caae3-bc57-4edc-a7bc-254c67eb2ba0",
   "metadata": {},
   "source": [
    "Let us try to compare against some data in [2212.05177](https://arxiv.org/abs/2212.05177).\n",
    "\n",
    "First, to establish their notation:\n",
    "\n",
    "$$\\begin{align}\n",
    "    \\alpha(x) &= -\\left(\\log x a\\right)^{-1} \n",
    "    &\n",
    "    \\alpha    &= \\alpha(k_F) \\text{ if no argument is provided.}\n",
    "\\end{align}$$\n",
    "\n",
    "We should aim for $\\alpha>0$ so that we do not need to compute the gap $M \\Delta^2/4\\pi$ (5.1).  Their results are good up to $\\alpha \\lesssim 0.6$ or so.\n",
    "\n",
    "What does that correspond to in terms of the number density\n",
    "$$ \\rho = N/L^2 = \\frac{g}{4\\pi} k_F^2 ?$$"
   ]
  },
  {
   "cell_type": "markdown",
   "id": "56358dc3-f916-458b-ab92-09fa048432e9",
   "metadata": {},
   "source": [
    "Massaging the definition of $\\alpha$ one finds\n",
    "$$\\begin{align}\n",
    "    e^{-1/\\alpha} = k_F a = \\sqrt{\\frac{4\\pi N}{gL^2}} a = \\sqrt{\\frac{N}{g\\pi}} \\frac{2\\pi a}{L}\n",
    "\\end{align}$$\n",
    "\n",
    "Since for our system $g=2$,\n",
    "$$\\begin{align}\n",
    "    e^{-1/\\alpha} = \\sqrt{\\frac{N}{2\\pi}} \\frac{2\\pi a}{L} = \\sqrt{\\frac{N}{2\\pi}} \\tilde{a}\n",
    "\\end{align}$$"
   ]
  },
  {
   "cell_type": "markdown",
   "id": "e030d461-abcf-4f5c-8208-6bed55cc26bd",
   "metadata": {},
   "source": [
    "Suppose we want to stay in the dilute regime $\\text{sparsity} = N/\\Lambda\\lesssim 0.1 $ to keep spatial discretization errors at bay.  Then we should solve\n",
    "$$\\begin{align}\n",
    "    e^{-1/\\alpha} = \\sqrt{\\frac{\\text{sparsity} \\Lambda}{2\\pi}} \\tilde{a}\n",
    "\\end{align}$$\n",
    "for $\\tilde{a}$ to find\n",
    "$$\\begin{align}\n",
    "    \\tilde{a} = \\frac{e^{-1/\\alpha}}{\\sqrt{\\frac{\\Lambda \\text{sparsity}}{2\\pi}}}\n",
    "\\end{align}$$"
   ]
  },
  {
   "cell_type": "code",
   "execution_count": null,
   "id": "046c0398-67fb-472d-a24c-182207e97f35",
   "metadata": {},
   "outputs": [],
   "source": [
    "def target_ere(alpha, lattice, sparsity):\n",
    "    \n",
    "    atilde = torch.exp(-1/alpha) / torch.sqrt( lattice.sites * sparsity / (2*torch.pi))\n",
    "    \n",
    "    return tdg.EffectiveRangeExpansion(torch.tensor((atilde,)))"
   ]
  },
  {
   "cell_type": "markdown",
   "id": "4b24ade2-b660-40b6-a99b-f64d8c6de645",
   "metadata": {},
   "source": [
    "They show the contact density [their (7.5)] for a range of α in Fig. 12.  Something to note is that the energy density in their definition [their (5.1)] requires subtracting off the gap.\n",
    "\n",
    "We can access the attractive channel with α < 0.  "
   ]
  },
  {
   "cell_type": "code",
   "execution_count": null,
   "id": "275467c8-ff61-45ae-953f-5d61744f96c1",
   "metadata": {},
   "outputs": [],
   "source": [
    "alpha_target = torch.tensor(-0.3)\n",
    "Lattice = tdg.Lattice(7)\n",
    "sparsity = torch.tensor(0.1) # so we should tune µ until we find about 5 particles\n",
    "Z = tdg.Luescher.Zeta2D()"
   ]
  },
  {
   "cell_type": "markdown",
   "id": "c61856ec-aaa6-4e7b-9efa-870477cb9a3c",
   "metadata": {},
   "source": [
    "We can tune to the continuum limit."
   ]
  },
  {
   "cell_type": "code",
   "execution_count": null,
   "id": "0b6df6f8-69ef-42b7-8e91-b1d7869f9681",
   "metadata": {},
   "outputs": [],
   "source": [
    "fig, ax = plt.subplots(1,1, figsize=(12,8))\n",
    "\n",
    "# First draw the zeta function.\n",
    "exact = torch.linspace(-5.001, 30.001, 1000)\n",
    "Z.plot(ax, exact, color='gray')\n",
    "\n",
    "# and the analytic piece of the ERE\n",
    "ere = target_ere(alpha_target, Lattice, sparsity)\n",
    "analytic = ere.analytic(exact)\n",
    "ax.plot(exact, analytic.clone().detach(), color='black', linestyle='dashed')\n",
    "\n",
    "def plot(ax, nx, alpha, starting_lattice, starting_sparsity):\n",
    "    Lattice = tdg.Lattice(nx)\n",
    "    # Take the continuum limit holding the number of particles fixed\n",
    "    # and increasing the number of sites.\n",
    "    sparsity = starting_sparsity*(starting_lattice.nx/nx)**2\n",
    "    \n",
    "    ere = target_ere(alpha, Lattice, sparsity)\n",
    "    tuning = tdg.AnalyticTuning(ere, Lattice)\n",
    "    A1 = tdg.ReducedTwoBodyA1Hamiltonian(Lattice, [tdg.LegoSphere(r) for r in tuning.radii])\n",
    "    E  = A1.eigenenergies(tuning.C)\n",
    "    x  = E * Lattice.sites / (2*torch.pi)**2\n",
    "    z  = Z(x) / torch.pi**2\n",
    "    ax.plot(\n",
    "        x.clone().detach().numpy(),\n",
    "        z.clone().detach().numpy(),\n",
    "        linestyle='none', marker='o',\n",
    "        label=f'nx={Lattice.nx}'\n",
    "        )\n",
    "\n",
    "for nx in range(7,25,2):\n",
    "    plot(ax, nx, alpha_target, Lattice, sparsity)\n",
    "\n",
    "ax.legend()\n",
    "ax.set_xlim((min(exact), max(exact)))\n",
    "ax.set_ylim((-0,5))"
   ]
  },
  {
   "cell_type": "markdown",
   "id": "89ec98ca-a22f-4549-aaf1-d6c2357ec1e6",
   "metadata": {},
   "source": [
    "Now that we know the Hamiltonian would converge to the right thing, let us prepare a many-body calculation!"
   ]
  },
  {
   "cell_type": "code",
   "execution_count": null,
   "id": "fbd94db1-09a3-4027-9d61-9d4a6217b03b",
   "metadata": {},
   "outputs": [],
   "source": [
    "tuning = tdg.AnalyticTuning(ere, Lattice)\n",
    "nt=32\n",
    "beta = 3\n",
    "mu = 0. # Iterated over a few choices until N came out about right.  Is it a coincidence that it's 0?"
   ]
  },
  {
   "cell_type": "code",
   "execution_count": null,
   "id": "b4180d69-37ab-4735-8931-6fec2835356a",
   "metadata": {},
   "outputs": [],
   "source": [
    "S = tuning.Action(nt, beta, torch.tensor(mu))\n",
    "print(S)"
   ]
  },
  {
   "cell_type": "code",
   "execution_count": null,
   "id": "9146fd02-c9e7-4f2b-8c27-1578aeafa857",
   "metadata": {},
   "outputs": [],
   "source": [
    "H = HMC.Hamiltonian(S)\n",
    "integrator = HMC.Omelyan(H, 30, 1)\n",
    "hmc = HMC.MarkovChain(H, integrator)"
   ]
  },
  {
   "cell_type": "code",
   "execution_count": null,
   "id": "e5db834a-9745-44a9-a62e-d1f7eba6f196",
   "metadata": {},
   "outputs": [],
   "source": [
    "configurations = 1000 # takes about 20 minutes on my laptop\n",
    "\n",
    "# Read from a stored ensemble if possible.\n",
    "try:\n",
    "    with h5.File('./many-body-contact-comparison.h5', 'r') as f:\n",
    "        ensemble = tdg.ensemble.GrandCanonical.from_h5(f['/ensemble'])\n",
    "        if len(ensemble.configurations) < configurations:\n",
    "            raise\n",
    "        else:\n",
    "            ensemble.configurations = ensemble.configurations[-configurations:]\n",
    "except:\n",
    "    ensemble = tdg.ensemble.GrandCanonical(S).generate(configurations, hmc, start='hot', progress=tqdm)\n",
    "    with h5.File('./many-body-contact-comparison.h5', 'w') as f:\n",
    "        ensemble.to_h5(f.create_group('/ensemble'))"
   ]
  },
  {
   "cell_type": "code",
   "execution_count": null,
   "id": "4a1e35f9-45c7-43c9-878e-2c5be165d8a4",
   "metadata": {},
   "outputs": [],
   "source": [
    "viz = visualize.History(2)\n",
    "viz.plot(ensemble.N('fermionic').real, 0, label=f'N = {ensemble.N(\"fermionic\").mean().real:.4f}')\n",
    "viz.plot(ensemble.S.real, 1)\n",
    "viz.ax[0,0].legend()"
   ]
  },
  {
   "cell_type": "markdown",
   "id": "64c86594-6584-4b1c-a152-dbb1492b4bce",
   "metadata": {},
   "source": [
    "Now we can evaluate $k_F a = \\sqrt{N/\\pi g} \\tilde{a}$ and check where we got α close to our target value, given the β and μ we picked."
   ]
  },
  {
   "cell_type": "code",
   "execution_count": null,
   "id": "695e6f11-b909-4f46-9f7d-1ab522f8a909",
   "metadata": {},
   "outputs": [],
   "source": [
    "kFa = torch.sqrt(ensemble.N('fermionic').mean() / (2*torch.pi)) * ere.a\n",
    "print(f'{kFa=:.4}')\n",
    "alpha = -1/torch.log(kFa)\n",
    "print(f\"α  :{alpha_target:.4f} target\")\n",
    "print(f\"α  ={alpha.real:.4} measured\")"
   ]
  },
  {
   "cell_type": "markdown",
   "id": "83cbad6f-a145-4322-bf5c-cf3827515985",
   "metadata": {},
   "source": [
    "Great!  A close value!  Let's look at the contact!"
   ]
  },
  {
   "cell_type": "code",
   "execution_count": null,
   "id": "7c065f2c-cf8a-4413-8357-4fc5bbf2f9be",
   "metadata": {},
   "outputs": [],
   "source": [
    "viz = visualize.History()\n",
    "viz.plot(ensemble.contact('fermionic').real, 0, label=f'contact = {ensemble.contact(\"fermionic\").mean().real:.4f}')\n",
    "viz.ax[0,0].legend()"
   ]
  },
  {
   "cell_type": "markdown",
   "id": "59cba0c2-ebcb-4cd3-b797-ee8730979600",
   "metadata": {},
   "source": [
    "Beane et al. report $C/k_F^4$ in their Figure 12.\n",
    "\n",
    "Their $C$ is the contact *density*.  \n",
    "\n",
    "To make a fair comparison we should compute $\\Lambda (C \\Delta x^2) / (2 \\pi N)^2$."
   ]
  },
  {
   "cell_type": "code",
   "execution_count": null,
   "id": "ef4304de-4b01-4817-a1f1-e80ca1070d3d",
   "metadata": {},
   "outputs": [],
   "source": [
    "def C_by_kF4(ensemble):\n",
    "    return ensemble.Action.Spacetime.Lattice.sites * ensemble.contact('fermionic').mean() / (2*torch.pi * ensemble.N('fermionic').mean())**2"
   ]
  },
  {
   "cell_type": "code",
   "execution_count": null,
   "id": "d6a4245d-40db-4fa3-94e2-920edac36318",
   "metadata": {},
   "outputs": [],
   "source": [
    "print(f\"C/kF^4 = {C_by_kF4(ensemble).real:.4f}\")"
   ]
  },
  {
   "cell_type": "markdown",
   "id": "714d35ce-8dcc-4c9e-8699-f08054152271",
   "metadata": {},
   "source": [
    "Which is compatible with the curve in Figure 12.  Note that we haven't subtracted off the gap squared, so this agreement may be spurious?  Or, perhaps, because we're at finite temperature we might not be in the superfluid phase and the gap need not be subtracted?  Perhaps the resolution is for both signs of α in (5.1) the energy density is given by the Hamiltonian?"
   ]
  }
 ],
 "metadata": {
  "kernelspec": {
   "display_name": "Python 3 (ipykernel)",
   "language": "python",
   "name": "python3"
  },
  "language_info": {
   "codemirror_mode": {
    "name": "ipython",
    "version": 3
   },
   "file_extension": ".py",
   "mimetype": "text/x-python",
   "name": "python",
   "nbconvert_exporter": "python",
   "pygments_lexer": "ipython3",
   "version": "3.9.13"
  }
 },
 "nbformat": 4,
 "nbformat_minor": 5
}
