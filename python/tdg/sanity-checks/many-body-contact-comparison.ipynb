{
 "cells": [
  {
   "cell_type": "code",
   "execution_count": null,
   "id": "5771d640-7055-4113-b877-ad60f78a4a0a",
   "metadata": {},
   "outputs": [],
   "source": [
    "import torch\n",
    "torch.set_default_dtype(torch.float64)\n",
    "import tdg\n",
    "\n",
    "import tdg.HMC as HMC\n",
    "from tqdm.notebook import tqdm\n",
    "\n",
    "import tdg.plot as visualize\n",
    "import matplotlib.pyplot as plt\n",
    "\n",
    "import h5py as h5"
   ]
  },
  {
   "cell_type": "markdown",
   "id": "fe5535ea-aa7c-4972-9297-f8c745b41767",
   "metadata": {},
   "source": [
    "Let us try to compare against some data in [2212.05177](https://arxiv.org/abs/2212.05177)."
   ]
  },
  {
   "cell_type": "markdown",
   "id": "e9235d64-811d-4aeb-bd02-f32933268892",
   "metadata": {
    "jp-MarkdownHeadingCollapsed": true,
    "tags": []
   },
   "source": [
    "# Target"
   ]
  },
  {
   "cell_type": "code",
   "execution_count": null,
   "id": "fdec928c-411d-4a3c-9420-0706c8f81059",
   "metadata": {},
   "outputs": [],
   "source": [
    "# See eq. (7.6)\n",
    "\n",
    "def alpha3(alpha):\n",
    "    \n",
    "    log4 = torch.log(torch.tensor(4.))\n",
    "    return 0.25 * alpha**2 * (\n",
    "                    1\n",
    "                    + (1.5 - log4) * alpha\n",
    "                    + 3*(0.16079 - (log4-1))*alpha**2\n",
    "                    # + O(alpha^3)\n",
    "    )\n",
    "\n",
    "# Extracted from their Figure 12.\n",
    "\n",
    "# alpha3 = torch.tensor([\n",
    "#     [0.598902, 0.074818],[0.511862, 0.057783],[0.444455, 0.045412],[0.361013, 0.031059],\n",
    "#     [0.305007, 0.022658],[0.250488, 0.015285],[0.177552, 0.007921],[0.125091, 0.003866],\n",
    "#     [0.056770, 0.000702],[0.000282, -0.000084],[-0.061888, 0.000928],[-0.112767, 0.003178],\n",
    "#     [-0.183703, 0.008094],[-0.243079, 0.013748],[-0.281439, 0.018160],[-0.315505, 0.022290],\n",
    "#     [-0.355172, 0.027626],[-0.401856, 0.034315],[-0.435591, 0.038935],[-0.482788, 0.045873],\n",
    "#     [-0.526242, 0.052000],[-0.568489, 0.057922],[-0.614529, 0.063739],[-0.651008, 0.067718],])\n",
    "\n",
    "\n",
    "\n",
    "MCDataPositive = torch.tensor([[0.561347, 0.070021],[0.473085, 0.051458],[0.382930, 0.034817],\n",
    "                               [0.291280, 0.020615],[0.195786, 0.009559],[0.098755, 0.002458],])\n",
    "\n",
    "MCDataNegative = torch.tensor([[-0.622725, 0.067143],[-0.490006, 0.047254],[-0.395163, 0.032882],\n",
    "                               [-0.309663, 0.019606],[-0.255783, 0.014222],[-0.234334, 0.012622],])\n",
    "\n",
    "def comparison_plot(ax):\n",
    "    x = torch.linspace(-0.65,+0.65,1000)\n",
    "    ax.plot(x, alpha3(x), color='black')\n",
    "    ax.fill_between(x, alpha3(0.95*x), alpha3(1.05*x), color='gray', alpha=0.2)\n",
    "    ax.plot(MCDataNegative[:,0], MCDataNegative[:,1], color='gray', marker='o', linestyle='none')\n",
    "    ax.plot(MCDataPositive[:,0], MCDataPositive[:,1], color='blue', marker='v', linestyle='none')\n",
    "    ax.set_xlim([-0.65,+0.65])\n",
    "    ax.set_ylim([0,0.075])    \n",
    "\n",
    "fig, ax = plt.subplots(1,1, figsize=(10,6))\n",
    "comparison_plot(ax)"
   ]
  },
  {
   "cell_type": "markdown",
   "id": "a40703c1-2012-4ece-be9c-161ccd2a93fc",
   "metadata": {
    "jp-MarkdownHeadingCollapsed": true,
    "tags": []
   },
   "source": [
    "# Tuning"
   ]
  },
  {
   "cell_type": "markdown",
   "id": "0957d253-d804-420c-aaaf-66ef23f4adcf",
   "metadata": {},
   "source": [
    "First, to establish their notation:\n",
    "\n",
    "$$\\begin{align}\n",
    "    \\alpha(x) &= -\\left(\\log x a\\right)^{-1} \n",
    "    &\n",
    "    \\alpha    &= \\alpha(k_F) \\text{ if no argument is provided.}\n",
    "\\end{align}$$\n",
    "\n",
    "We should aim for $\\alpha>0$ so that we do not need to compute the gap $M \\Delta^2/4\\pi$ (5.1).  Their results are good up to $\\alpha \\lesssim 0.6$ or so.\n",
    "\n",
    "What does that correspond to in terms of the number density\n",
    "$$ \\rho = N/L^2 = \\frac{g}{4\\pi} k_F^2 ?$$"
   ]
  },
  {
   "cell_type": "markdown",
   "id": "56358dc3-f916-458b-ab92-09fa048432e9",
   "metadata": {},
   "source": [
    "Massaging the definition of $\\alpha$ one finds\n",
    "$$\\begin{align}\n",
    "    e^{-1/\\alpha} = k_F a = \\sqrt{\\frac{4\\pi N}{gL^2}} a = \\sqrt{\\frac{N}{g\\pi}} \\frac{2\\pi a}{L}\n",
    "\\end{align}$$\n",
    "\n",
    "Since for our system $g=2$,\n",
    "$$\\begin{align}\n",
    "    e^{-1/\\alpha} = \\sqrt{\\frac{N}{2\\pi}} \\frac{2\\pi a}{L} = \\sqrt{\\frac{N}{2\\pi}} \\tilde{a}\n",
    "\\end{align}$$"
   ]
  },
  {
   "cell_type": "markdown",
   "id": "e030d461-abcf-4f5c-8208-6bed55cc26bd",
   "metadata": {},
   "source": [
    "Suppose we want to stay in the dilute regime $\\text{sparsity} = N/\\Lambda\\lesssim 0.1 $ to keep spatial discretization errors at bay.  Then we should solve\n",
    "$$\\begin{align}\n",
    "    e^{-1/\\alpha} = \\sqrt{\\frac{\\text{sparsity} \\Lambda}{2\\pi}} \\tilde{a}\n",
    "\\end{align}$$\n",
    "for $\\tilde{a}$ to find\n",
    "$$\\begin{align}\n",
    "    \\tilde{a} = \\frac{e^{-1/\\alpha}}{\\sqrt{\\frac{\\Lambda \\text{sparsity}}{2\\pi}}}\n",
    "\\end{align}$$"
   ]
  },
  {
   "cell_type": "code",
   "execution_count": null,
   "id": "046c0398-67fb-472d-a24c-182207e97f35",
   "metadata": {},
   "outputs": [],
   "source": [
    "def target_ere(alpha, lattice, sparsity):\n",
    "    \n",
    "    atilde = torch.exp(-1/alpha) / torch.sqrt( lattice.sites * sparsity / (2*torch.pi))\n",
    "    \n",
    "    return tdg.EffectiveRangeExpansion(torch.tensor((atilde,)))"
   ]
  },
  {
   "cell_type": "markdown",
   "id": "4b24ade2-b660-40b6-a99b-f64d8c6de645",
   "metadata": {},
   "source": [
    "They show the contact density [their (7.5)] for a range of α in Fig. 12.  Something to note is that the energy density in their definition [their (5.1)] requires subtracting off the gap.\n",
    "\n",
    "We can access the attractive channel with α < 0.  "
   ]
  },
  {
   "cell_type": "code",
   "execution_count": null,
   "id": "275467c8-ff61-45ae-953f-5d61744f96c1",
   "metadata": {},
   "outputs": [],
   "source": [
    "alpha_target = torch.tensor(-0.3)\n",
    "Lattice = tdg.Lattice(7)\n",
    "sparsity = torch.tensor(0.1) # so we should tune µ until we find about 5 particles\n",
    "Z = tdg.Luescher.Zeta2D()"
   ]
  },
  {
   "cell_type": "markdown",
   "id": "c61856ec-aaa6-4e7b-9efa-870477cb9a3c",
   "metadata": {},
   "source": [
    "We can tune to the continuum limit."
   ]
  },
  {
   "cell_type": "code",
   "execution_count": null,
   "id": "0b6df6f8-69ef-42b7-8e91-b1d7869f9681",
   "metadata": {},
   "outputs": [],
   "source": [
    "fig, ax = plt.subplots(1,1, figsize=(12,8))\n",
    "\n",
    "# First draw the zeta function.\n",
    "exact = torch.linspace(-5.001, 30.001, 1000)\n",
    "Z.plot(ax, exact, color='gray')\n",
    "\n",
    "# and the analytic piece of the ERE\n",
    "ere = target_ere(alpha_target, Lattice, sparsity)\n",
    "analytic = ere.analytic(exact)\n",
    "ax.plot(exact, analytic.clone().detach(), color='black', linestyle='dashed')\n",
    "\n",
    "def plot(ax, nx, alpha, starting_lattice, starting_sparsity):\n",
    "    Lattice = tdg.Lattice(nx)\n",
    "    # Take the continuum limit holding the number of particles fixed\n",
    "    # and increasing the number of sites.\n",
    "    sparsity = starting_sparsity*(starting_lattice.nx/nx)**2\n",
    "    \n",
    "    ere = target_ere(alpha, Lattice, sparsity)\n",
    "    tuning = tdg.AnalyticTuning(ere, Lattice)\n",
    "    A1 = tdg.ReducedTwoBodyA1Hamiltonian(Lattice, [tdg.LegoSphere(r) for r in tuning.radii])\n",
    "    E  = A1.eigenenergies(tuning.C)\n",
    "    x  = E * Lattice.sites / (2*torch.pi)**2\n",
    "    z  = Z(x) / torch.pi**2\n",
    "    ax.plot(\n",
    "        x.clone().detach().numpy(),\n",
    "        z.clone().detach().numpy(),\n",
    "        linestyle='none', marker='o',\n",
    "        label=f'nx={Lattice.nx}'\n",
    "        )\n",
    "\n",
    "for nx in range(7,25,2):\n",
    "    plot(ax, nx, alpha_target, Lattice, sparsity)\n",
    "\n",
    "ax.legend()\n",
    "ax.set_xlim((min(exact), max(exact)))\n",
    "ax.set_ylim((-0,5))"
   ]
  },
  {
   "cell_type": "markdown",
   "id": "c6e5d1a6-ff06-4a30-aa50-65d37b09244b",
   "metadata": {
    "jp-MarkdownHeadingCollapsed": true,
    "tags": []
   },
   "source": [
    "# Many-Body"
   ]
  },
  {
   "cell_type": "markdown",
   "id": "89ec98ca-a22f-4549-aaf1-d6c2357ec1e6",
   "metadata": {},
   "source": [
    "Now that we know the Hamiltonian would converge to the right thing, let us prepare a many-body calculation!"
   ]
  },
  {
   "cell_type": "code",
   "execution_count": null,
   "id": "fbd94db1-09a3-4027-9d61-9d4a6217b03b",
   "metadata": {},
   "outputs": [],
   "source": [
    "tuning = tdg.AnalyticTuning(ere, Lattice)\n",
    "nt=32\n",
    "beta = 3\n",
    "mu = 0. # Iterated over a few choices until N came out about right.  Is it a coincidence that it's 0?"
   ]
  },
  {
   "cell_type": "code",
   "execution_count": null,
   "id": "b4180d69-37ab-4735-8931-6fec2835356a",
   "metadata": {},
   "outputs": [],
   "source": [
    "S = tuning.Action(nt, beta, torch.tensor(mu))\n",
    "print(S)"
   ]
  },
  {
   "cell_type": "code",
   "execution_count": null,
   "id": "9146fd02-c9e7-4f2b-8c27-1578aeafa857",
   "metadata": {},
   "outputs": [],
   "source": [
    "H = HMC.Hamiltonian(S)\n",
    "integrator = HMC.Omelyan(H, 30, 1)\n",
    "hmc = HMC.MarkovChain(H, integrator)"
   ]
  },
  {
   "cell_type": "code",
   "execution_count": null,
   "id": "e5db834a-9745-44a9-a62e-d1f7eba6f196",
   "metadata": {},
   "outputs": [],
   "source": [
    "configurations = 1000 # takes about 20 minutes on my laptop\n",
    "\n",
    "# Read from a stored ensemble if possible.\n",
    "try:\n",
    "    with h5.File('./many-body-contact-comparison.h5', 'r') as f:\n",
    "        ensemble = tdg.ensemble.GrandCanonical.from_h5(f['/ensemble'])\n",
    "        if len(ensemble.configurations) < configurations:\n",
    "            raise\n",
    "        else:\n",
    "            ensemble.configurations = ensemble.configurations[-configurations:]\n",
    "except:\n",
    "    ensemble = tdg.ensemble.GrandCanonical(S).generate(configurations, hmc, start='hot', progress=tqdm)\n",
    "    with h5.File('./many-body-contact-comparison.h5', 'w') as f:\n",
    "        ensemble.to_h5(f.create_group('/ensemble'))"
   ]
  },
  {
   "cell_type": "code",
   "execution_count": null,
   "id": "4a1e35f9-45c7-43c9-878e-2c5be165d8a4",
   "metadata": {},
   "outputs": [],
   "source": [
    "viz = visualize.History(2)\n",
    "viz.plot(ensemble.N('fermionic').real, 0, label=f'N = {ensemble.N(\"fermionic\").mean().real:.4f}')\n",
    "viz.plot(ensemble.S.real, 1)\n",
    "viz.ax[0,0].legend()"
   ]
  },
  {
   "cell_type": "markdown",
   "id": "41ea6bb5-c387-4a19-a37e-a0cd80c29bb3",
   "metadata": {
    "jp-MarkdownHeadingCollapsed": true,
    "tags": []
   },
   "source": [
    "# Analysis"
   ]
  },
  {
   "cell_type": "code",
   "execution_count": null,
   "id": "4c58734b-cb5b-454d-a134-516728bf8084",
   "metadata": {},
   "outputs": [],
   "source": [
    "binned = ensemble.cut(100).binned(16)\n",
    "bootstrapped = binned.bootstrapped()"
   ]
  },
  {
   "cell_type": "code",
   "execution_count": null,
   "id": "90bfeadc-b4a6-43be-aae2-fd0e5ecf3cfc",
   "metadata": {},
   "outputs": [],
   "source": [
    "viz = visualize.History(2)\n",
    "viz.plot(ensemble.N('fermionic').real, 0, label=f'N = {ensemble.N(\"fermionic\").mean().real:.4f}')\n",
    "viz.plot(ensemble.S.real, 1, label=f'S = {binned.S.real.mean():.4f}')\n",
    "\n",
    "viz.plot(binned.N('fermionic').real, 0, x=binned.index, label=f'binned = {binned.N(\"fermionic\").mean().real:.4f}')\n",
    "viz.plot(binned.S.real, 1, x=binned.index, label=f'binned = {binned.S.real.mean():.4f}')\n",
    "\n",
    "viz.ax[0,0].legend()\n",
    "viz.ax[1,0].legend()"
   ]
  },
  {
   "cell_type": "markdown",
   "id": "c9338e92-1c59-4cab-91b3-f78890db4cd3",
   "metadata": {},
   "source": [
    "Now we can evaluate $k_F a = \\sqrt{N/\\pi g} \\tilde{a}$ and check where we got α close to our target value, given the β and μ we picked."
   ]
  },
  {
   "cell_type": "code",
   "execution_count": null,
   "id": "0b142b36-f93b-4b0f-af70-f6ec85d520c2",
   "metadata": {},
   "outputs": [],
   "source": [
    "bootstrapped.kFa = torch.sqrt(bootstrapped.N('fermionic') / (2*torch.pi)) * ere.a\n",
    "bootstrapped.alpha = -1./torch.log(bootstrapped.kFa)"
   ]
  },
  {
   "cell_type": "code",
   "execution_count": null,
   "id": "499194d8-8481-4e46-8b8d-2f832a6b182c",
   "metadata": {},
   "outputs": [],
   "source": [
    "def err(bootstrapped_observable, n = None):\n",
    "    mean = bootstrapped_observable.real.mean()\n",
    "    std  = bootstrapped_observable.real.std()\n",
    "    \n",
    "    if std < 1:\n",
    "        precision = int(-torch.log10(std)) + 1\n",
    "    else:\n",
    "        precision = 1\n",
    "        \n",
    "    return f'{mean:.{precision}f} ± {std:.{precision}f}'"
   ]
  },
  {
   "cell_type": "code",
   "execution_count": null,
   "id": "e504275b-a54a-4d91-ab5f-908e0e197203",
   "metadata": {},
   "outputs": [],
   "source": [
    "print(f'kFa {err(bootstrapped.kFa)}')\n",
    "print(f'α {alpha_target}             target')\n",
    "print(f'α {err(bootstrapped.alpha)} measured')"
   ]
  },
  {
   "cell_type": "markdown",
   "id": "83cbad6f-a145-4322-bf5c-cf3827515985",
   "metadata": {},
   "source": [
    "Great!  A close value!  Let's look at the contact!"
   ]
  },
  {
   "cell_type": "code",
   "execution_count": null,
   "id": "7c065f2c-cf8a-4413-8357-4fc5bbf2f9be",
   "metadata": {},
   "outputs": [],
   "source": [
    "viz = visualize.History()\n",
    "viz.plot(ensemble.contact('fermionic').real, 0, label=f'contact ∆x^2 = {ensemble.contact(\"fermionic\").mean().real:.4f}')\n",
    "viz.plot(binned.contact('fermionic').real, 0, x=binned.index, label=f'binned = {binned.contact(\"fermionic\").mean().real:.4f}')\n",
    "viz.ax[0,0].legend()"
   ]
  },
  {
   "cell_type": "markdown",
   "id": "b2145d91-a276-49e2-8f76-c9ea57e282ad",
   "metadata": {},
   "source": [
    "Check the error has plateaued:"
   ]
  },
  {
   "cell_type": "code",
   "execution_count": null,
   "id": "cc248a96-7845-4da2-972a-e5a5f3bdabdc",
   "metadata": {},
   "outputs": [],
   "source": [
    "cut = ensemble.cut(100) # Share the measurements among every binning.\n",
    "\n",
    "viz = visualize.ScatterTriangle(3, labels=('(2πN)^2', 'Λ C ∆x^2', 'C/kF^4'))\n",
    "\n",
    "for width in [2, 4, 8, 16, 24, 32]:\n",
    "    binned = cut.binned(width)\n",
    "    \n",
    "    viz.plot((\n",
    "        (2*torch.pi*binned.N('fermionic')).real**2, \n",
    "        ensemble.Action.Spacetime.Lattice.sites*binned.contact('fermionic').real,\n",
    "        (ensemble.Action.Spacetime.Lattice.sites*binned.contact('fermionic').real\n",
    "         / (2*torch.pi*binned.N('fermionic')).real**2\n",
    "        )\n",
    "    ))\n",
    "    \n",
    "    plateau = binned.bootstrapped()\n",
    "    \n",
    "    # See below for why this is a good observable to compute.\n",
    "    plateau.C_by_kF4 = (\n",
    "        ensemble.Action.Spacetime.Lattice.sites\n",
    "        * plateau.contact('fermionic')\n",
    "        / (2*torch.pi * plateau.N('fermionic'))**2\n",
    "    )\n",
    "    print(f'{width =:3}    bins = {binned.bins:3}    C/kF^4 = {err(plateau.C_by_kF4)}')\n",
    "    \n",
    "viz.grid[1,0].plot(\n",
    "    (400, 1200), (0.0228*400, 0.0228*1200),\n",
    "    color='gray', alpha=0.5)\n",
    "\n",
    "low = plateau.C_by_kF4.real.mean()-plateau.C_by_kF4.real.std()\n",
    "high= plateau.C_by_kF4.real.mean()+plateau.C_by_kF4.real.std()\n",
    "\n",
    "viz.grid[2,0].axhspan(\n",
    "    low, high,\n",
    "    color='gray', alpha=0.5, zorder = -1)"
   ]
  },
  {
   "cell_type": "markdown",
   "id": "e8f37ff0-babb-402f-b748-6886a3791ae6",
   "metadata": {},
   "source": [
    "Looks like a reasonable uncertainty estimate!"
   ]
  },
  {
   "cell_type": "markdown",
   "id": "5ede9160-41f3-4ef2-bda9-97b55efcb93b",
   "metadata": {
    "tags": []
   },
   "source": [
    "# Comparison"
   ]
  },
  {
   "cell_type": "markdown",
   "id": "59cba0c2-ebcb-4cd3-b797-ee8730979600",
   "metadata": {},
   "source": [
    "Beane et al. report $C/k_F^4$ in their Figure 12.\n",
    "\n",
    "Their $C$ is the contact *density*.  \n",
    "\n",
    "To make a fair comparison we should compute $\\Lambda (C \\Delta x^2) / (2 \\pi N)^2$."
   ]
  },
  {
   "cell_type": "code",
   "execution_count": null,
   "id": "a2663ec0-1ab2-4e6c-8981-c50957501cb0",
   "metadata": {},
   "outputs": [],
   "source": [
    "bootstrapped.C_by_kF4 = (\n",
    "    ensemble.Action.Spacetime.Lattice.sites\n",
    "    * bootstrapped.contact('fermionic')\n",
    "    / (2*torch.pi * bootstrapped.N('fermionic'))**2\n",
    ")"
   ]
  },
  {
   "cell_type": "code",
   "execution_count": null,
   "id": "5c415e60-8003-4bff-99e1-fa63fc579f96",
   "metadata": {},
   "outputs": [],
   "source": [
    "print(f\"C/kF^4 = {err(bootstrapped.C_by_kF4)}\")"
   ]
  },
  {
   "cell_type": "markdown",
   "id": "0b9f52a6-223b-4187-93a8-5561c58751dc",
   "metadata": {},
   "source": [
    "Seems to be compatible with the curve in Figure 12 of [2212.05177](https://arxiv.org/abs/2212.05177)."
   ]
  },
  {
   "cell_type": "code",
   "execution_count": null,
   "id": "d1aff5ba-1efe-478f-be2d-b3fbcf49d8a1",
   "metadata": {},
   "outputs": [],
   "source": [
    "fig, ax = plt.subplots(1,1, figsize=(10,6))\n",
    "\n",
    "comparison_plot(ax)\n",
    "\n",
    "ax.errorbar(\n",
    "    (bootstrapped.alpha.real.mean().detach().numpy(),),\n",
    "    (bootstrapped.C_by_kF4.real.mean().detach().numpy(),),\n",
    "    xerr=(bootstrapped.alpha.real.std().detach().numpy(),),\n",
    "    yerr=(bootstrapped.C_by_kF4.real.std().detach().numpy(),),\n",
    "    color='red', marker=None\n",
    ")"
   ]
  },
  {
   "cell_type": "markdown",
   "id": "93bdc67e-40aa-46cb-9c7e-b834cece872d",
   "metadata": {},
   "source": [
    "So we're within the ±5% error band of the EFT prediction, without spatial continuum, infinite volume, or cold limits.  That's extremely promising!"
   ]
  },
  {
   "cell_type": "markdown",
   "id": "73cc8c13-538b-48c9-a400-14fbecdac1e4",
   "metadata": {},
   "source": [
    "In their notation, however, the contact density is the derivative of $\\mathcal{E}_{FL}$ rather than $\\mathcal{E}$ (a Hamiltonian eigenvalue).  The difference is, when $\\alpha < 0$,\n",
    "$$\n",
    "    \\mathcal{E}_{FL} = \\mathcal{E} + \\frac{M \\Delta^2}{4\\pi}\n",
    "$$\n",
    "\n",
    "Is this difference detectable at our level of uncertainty?"
   ]
  },
  {
   "cell_type": "markdown",
   "id": "0fe3950d-b486-44e0-a154-414f3e7c6180",
   "metadata": {},
   "source": [
    "The difference between our two calculations of $C/k_F^4$ is (up to a sign)\n",
    "$$\n",
    "    \\text{difference}\n",
    "    = \\frac{1}{k_F^4} 2\\pi M \\frac{d}{d\\log a} \\left( \\frac{M \\Delta^2}{4\\pi} \\right)\n",
    "    = \\frac{1}{2 k_F^4} \\frac{d}{d\\log a}\\left( M^2 \\Delta^2 \\right)\n",
    "$$\n",
    "Now, since\n",
    "$$\n",
    "\\begin{align}\n",
    "    \\Delta^2 &= 2 E_F |E_B|\n",
    "    &\n",
    "    E_F &= \\frac{k_F^2}{2M}\n",
    "    &\n",
    "    E_B &= - \\frac{1}{Ma^2}\n",
    "\\end{align}\n",
    "$$\n",
    "from equations (4.17), (4.3), and (3.20) respectively, we have\n",
    "$$\n",
    "    \\text{difference}\n",
    "    = \\frac{1}{2 k_F^4} \\frac{d}{d\\log a}\\left( 2 M^2 E_F |E_B| \\right)\n",
    "    = \\frac{1}{2 k_F^4} \\frac{d}{d\\log a}\\left( 2 M^2 \\frac{k_F^2}{2M} \\frac{1}{Ma^2} \\right)\n",
    "$$\n",
    "and simplifying,\n",
    "$$\n",
    "    \\text{difference}\n",
    "    = \\frac{1}{2 k_F^4} \\frac{d}{d\\log a} \\left( \\frac{k_F^2}{a^2} \\right)\n",
    "    = \\frac{1}{(k_F a)^2}\\left(\\frac{a k_F'}{k_F}-1\\right)\n",
    "$$"
   ]
  },
  {
   "cell_type": "markdown",
   "id": "08608787-6d11-497b-99e0-49b32aa5b50c",
   "metadata": {},
   "source": [
    "If we assume $a k_F'/k_F = d\\log k_F / d\\log a$ is small the difference is of the size $(k_F a)^{-2}$"
   ]
  },
  {
   "cell_type": "code",
   "execution_count": null,
   "id": "bce2be01-daf4-446f-b5b2-752b620c932b",
   "metadata": {},
   "outputs": [],
   "source": [
    "print(f'C/kF^4    {err(bootstrapped.C_by_kF4)}')\n",
    "print(f'1/(kFa)^2 {err(1/(bootstrapped.kFa)**2)} ~ the difference')"
   ]
  },
  {
   "cell_type": "markdown",
   "id": "68024f46-8f10-4c4d-ae40-2fb189879dbc",
   "metadata": {},
   "source": [
    "So the discrepancy is 3x our uncertainty!"
   ]
  }
 ],
 "metadata": {
  "kernelspec": {
   "display_name": "Python 3 (ipykernel)",
   "language": "python",
   "name": "python3"
  },
  "language_info": {
   "codemirror_mode": {
    "name": "ipython",
    "version": 3
   },
   "file_extension": ".py",
   "mimetype": "text/x-python",
   "name": "python",
   "nbconvert_exporter": "python",
   "pygments_lexer": "ipython3",
   "version": "3.9.13"
  }
 },
 "nbformat": 4,
 "nbformat_minor": 5
}
