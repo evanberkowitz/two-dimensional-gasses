{
 "cells": [
  {
   "cell_type": "code",
   "execution_count": null,
   "id": "94ef9a5d-a554-4daf-b659-7b7646672954",
   "metadata": {},
   "outputs": [],
   "source": [
    "import numpy as np\n",
    "import matplotlib.pyplot as plt"
   ]
  },
  {
   "cell_type": "code",
   "execution_count": null,
   "id": "9527aaf1-e198-4f32-88c6-4ab69e88159a",
   "metadata": {},
   "outputs": [],
   "source": [
    "import tdg.plot as plot"
   ]
  },
  {
   "cell_type": "code",
   "execution_count": null,
   "id": "30c81de1-4cab-4482-8bba-80f434d990db",
   "metadata": {
    "tags": []
   },
   "outputs": [],
   "source": [
    "data = np.random.rand(10000)-0.5\n",
    "gauss = np.random.normal(0, 0.25, 10000)"
   ]
  },
  {
   "cell_type": "code",
   "execution_count": null,
   "id": "bb8930e5-70e1-48e1-b055-83e3ee281ce1",
   "metadata": {
    "tags": []
   },
   "outputs": [],
   "source": [
    "h = plot.History(1)\n",
    "h.plot(data, label='uniform')\n",
    "h.plot(gauss, label='gauss')\n",
    "h.histogram[0].legend()"
   ]
  },
  {
   "cell_type": "code",
   "execution_count": null,
   "id": "683aea4e-88f3-47b1-9da6-e3ae089df1be",
   "metadata": {},
   "outputs": [],
   "source": [
    "sm = plot.ScatterMatrix(3, figsize=(6,6))\n",
    "sm.plot((data,gauss,data))\n",
    "sm.plot((gauss,data,gauss))"
   ]
  }
 ],
 "metadata": {
  "kernelspec": {
   "display_name": "Python 3 (ipykernel)",
   "language": "python",
   "name": "python3"
  },
  "language_info": {
   "codemirror_mode": {
    "name": "ipython",
    "version": 3
   },
   "file_extension": ".py",
   "mimetype": "text/x-python",
   "name": "python",
   "nbconvert_exporter": "python",
   "pygments_lexer": "ipython3",
   "version": "3.9.13"
  }
 },
 "nbformat": 4,
 "nbformat_minor": 5
}
